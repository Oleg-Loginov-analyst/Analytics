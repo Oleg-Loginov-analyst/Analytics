{
 "cells": [
  {
   "cell_type": "markdown",
   "id": "a33f364c",
   "metadata": {},
   "source": [
    "<h1>Исследование надёжности заёмщиков</h1>"
   ]
  },
  {
   "cell_type": "markdown",
   "id": "7797dded",
   "metadata": {},
   "source": [
    "<h2>Описание проекта</h2>"
   ]
  },
  {
   "cell_type": "markdown",
   "id": "4182a994",
   "metadata": {},
   "source": [
    "Заказчик — кредитный отдел банка. Нужно разобраться, влияет ли семейное положение и количество детей клиента на факт погашения кредита в срок. Входные данные от банка — статистика о платёжеспособности клиентов.\n",
    "\n",
    "Результаты исследования будут учтены при построении модели кредитного скоринга — специальной системы, которая оценивает способность потенциального заёмщика вернуть кредит банку."
   ]
  },
  {
   "cell_type": "markdown",
   "id": "06acf7ce",
   "metadata": {},
   "source": [
    "## Шаг 1. Откройте таблицу и изучите общую информацию о данных ##"
   ]
  },
  {
   "cell_type": "markdown",
   "id": "a4f62955",
   "metadata": {},
   "source": [
    "Импортируем библиотекиу pandas для обработки и анализа табличных данных, а также библиотеку pymystem3 для проведения лемматизации."
   ]
  },
  {
   "cell_type": "code",
   "execution_count": 21,
   "id": "fce7becd",
   "metadata": {},
   "outputs": [],
   "source": [
    "import pandas as pd\n",
    "import numpy as np\n",
    "from pymystem3 import Mystem\n",
    "m = Mystem()\n",
    "from nltk.stem import SnowballStemmer\n",
    "russian_stemmer = SnowballStemmer('russian')"
   ]
  },
  {
   "cell_type": "markdown",
   "id": "f56b86fa",
   "metadata": {},
   "source": [
    "Читаем csv-файл и выводим на данные."
   ]
  },
  {
   "cell_type": "code",
   "execution_count": 22,
   "id": "db558431",
   "metadata": {},
   "outputs": [
    {
     "name": "stdout",
     "output_type": "stream",
     "text": [
      "<class 'pandas.core.frame.DataFrame'>\n",
      "RangeIndex: 21525 entries, 0 to 21524\n",
      "Data columns (total 12 columns):\n",
      " #   Column            Non-Null Count  Dtype  \n",
      "---  ------            --------------  -----  \n",
      " 0   children          21525 non-null  int64  \n",
      " 1   days_employed     19351 non-null  float64\n",
      " 2   dob_years         21525 non-null  int64  \n",
      " 3   education         21525 non-null  object \n",
      " 4   education_id      21525 non-null  int64  \n",
      " 5   family_status     21525 non-null  object \n",
      " 6   family_status_id  21525 non-null  int64  \n",
      " 7   gender            21525 non-null  object \n",
      " 8   income_type       21525 non-null  object \n",
      " 9   debt              21525 non-null  int64  \n",
      " 10  total_income      19351 non-null  float64\n",
      " 11  purpose           21525 non-null  object \n",
      "dtypes: float64(2), int64(5), object(5)\n",
      "memory usage: 2.0+ MB\n"
     ]
    },
    {
     "data": {
      "text/html": [
       "<div><div id=b09efc6f-0ea9-4459-b159-83b0c7c45caa style=\"display:none; background-color:#9D6CFF; color:white; width:200px; height:30px; padding-left:5px; border-radius:4px; flex-direction:row; justify-content:space-around; align-items:center;\" onmouseover=\"this.style.backgroundColor='#BA9BF8'\" onmouseout=\"this.style.backgroundColor='#9D6CFF'\" onclick=\"window.commands?.execute('create-mitosheet-from-dataframe-output');\">See Full Dataframe in Mito</div> <script> if (window.commands.hasCommand('create-mitosheet-from-dataframe-output')) document.getElementById('b09efc6f-0ea9-4459-b159-83b0c7c45caa').style.display = 'flex' </script> <table border=\"1\" class=\"dataframe\">\n",
       "  <thead>\n",
       "    <tr style=\"text-align: right;\">\n",
       "      <th></th>\n",
       "      <th>children</th>\n",
       "      <th>days_employed</th>\n",
       "      <th>dob_years</th>\n",
       "      <th>education</th>\n",
       "      <th>education_id</th>\n",
       "      <th>family_status</th>\n",
       "      <th>family_status_id</th>\n",
       "      <th>gender</th>\n",
       "      <th>income_type</th>\n",
       "      <th>debt</th>\n",
       "      <th>total_income</th>\n",
       "      <th>purpose</th>\n",
       "    </tr>\n",
       "  </thead>\n",
       "  <tbody>\n",
       "    <tr>\n",
       "      <th>0</th>\n",
       "      <td>1</td>\n",
       "      <td>-8437.673028</td>\n",
       "      <td>42</td>\n",
       "      <td>высшее</td>\n",
       "      <td>0</td>\n",
       "      <td>женат / замужем</td>\n",
       "      <td>0</td>\n",
       "      <td>F</td>\n",
       "      <td>сотрудник</td>\n",
       "      <td>0</td>\n",
       "      <td>253875.639453</td>\n",
       "      <td>покупка жилья</td>\n",
       "    </tr>\n",
       "    <tr>\n",
       "      <th>1</th>\n",
       "      <td>1</td>\n",
       "      <td>-4024.803754</td>\n",
       "      <td>36</td>\n",
       "      <td>среднее</td>\n",
       "      <td>1</td>\n",
       "      <td>женат / замужем</td>\n",
       "      <td>0</td>\n",
       "      <td>F</td>\n",
       "      <td>сотрудник</td>\n",
       "      <td>0</td>\n",
       "      <td>112080.014102</td>\n",
       "      <td>приобретение автомобиля</td>\n",
       "    </tr>\n",
       "    <tr>\n",
       "      <th>2</th>\n",
       "      <td>0</td>\n",
       "      <td>-5623.422610</td>\n",
       "      <td>33</td>\n",
       "      <td>Среднее</td>\n",
       "      <td>1</td>\n",
       "      <td>женат / замужем</td>\n",
       "      <td>0</td>\n",
       "      <td>M</td>\n",
       "      <td>сотрудник</td>\n",
       "      <td>0</td>\n",
       "      <td>145885.952297</td>\n",
       "      <td>покупка жилья</td>\n",
       "    </tr>\n",
       "    <tr>\n",
       "      <th>3</th>\n",
       "      <td>3</td>\n",
       "      <td>-4124.747207</td>\n",
       "      <td>32</td>\n",
       "      <td>среднее</td>\n",
       "      <td>1</td>\n",
       "      <td>женат / замужем</td>\n",
       "      <td>0</td>\n",
       "      <td>M</td>\n",
       "      <td>сотрудник</td>\n",
       "      <td>0</td>\n",
       "      <td>267628.550329</td>\n",
       "      <td>дополнительное образование</td>\n",
       "    </tr>\n",
       "    <tr>\n",
       "      <th>4</th>\n",
       "      <td>0</td>\n",
       "      <td>340266.072047</td>\n",
       "      <td>53</td>\n",
       "      <td>среднее</td>\n",
       "      <td>1</td>\n",
       "      <td>гражданский брак</td>\n",
       "      <td>1</td>\n",
       "      <td>F</td>\n",
       "      <td>пенсионер</td>\n",
       "      <td>0</td>\n",
       "      <td>158616.077870</td>\n",
       "      <td>сыграть свадьбу</td>\n",
       "    </tr>\n",
       "    <tr>\n",
       "      <th>5</th>\n",
       "      <td>0</td>\n",
       "      <td>-926.185831</td>\n",
       "      <td>27</td>\n",
       "      <td>высшее</td>\n",
       "      <td>0</td>\n",
       "      <td>гражданский брак</td>\n",
       "      <td>1</td>\n",
       "      <td>M</td>\n",
       "      <td>компаньон</td>\n",
       "      <td>0</td>\n",
       "      <td>255763.565419</td>\n",
       "      <td>покупка жилья</td>\n",
       "    </tr>\n",
       "    <tr>\n",
       "      <th>6</th>\n",
       "      <td>0</td>\n",
       "      <td>-2879.202052</td>\n",
       "      <td>43</td>\n",
       "      <td>высшее</td>\n",
       "      <td>0</td>\n",
       "      <td>женат / замужем</td>\n",
       "      <td>0</td>\n",
       "      <td>F</td>\n",
       "      <td>компаньон</td>\n",
       "      <td>0</td>\n",
       "      <td>240525.971920</td>\n",
       "      <td>операции с жильем</td>\n",
       "    </tr>\n",
       "    <tr>\n",
       "      <th>7</th>\n",
       "      <td>0</td>\n",
       "      <td>-152.779569</td>\n",
       "      <td>50</td>\n",
       "      <td>СРЕДНЕЕ</td>\n",
       "      <td>1</td>\n",
       "      <td>женат / замужем</td>\n",
       "      <td>0</td>\n",
       "      <td>M</td>\n",
       "      <td>сотрудник</td>\n",
       "      <td>0</td>\n",
       "      <td>135823.934197</td>\n",
       "      <td>образование</td>\n",
       "    </tr>\n",
       "    <tr>\n",
       "      <th>8</th>\n",
       "      <td>2</td>\n",
       "      <td>-6929.865299</td>\n",
       "      <td>35</td>\n",
       "      <td>ВЫСШЕЕ</td>\n",
       "      <td>0</td>\n",
       "      <td>гражданский брак</td>\n",
       "      <td>1</td>\n",
       "      <td>F</td>\n",
       "      <td>сотрудник</td>\n",
       "      <td>0</td>\n",
       "      <td>95856.832424</td>\n",
       "      <td>на проведение свадьбы</td>\n",
       "    </tr>\n",
       "    <tr>\n",
       "      <th>9</th>\n",
       "      <td>0</td>\n",
       "      <td>-2188.756445</td>\n",
       "      <td>41</td>\n",
       "      <td>среднее</td>\n",
       "      <td>1</td>\n",
       "      <td>женат / замужем</td>\n",
       "      <td>0</td>\n",
       "      <td>M</td>\n",
       "      <td>сотрудник</td>\n",
       "      <td>0</td>\n",
       "      <td>144425.938277</td>\n",
       "      <td>покупка жилья для семьи</td>\n",
       "    </tr>\n",
       "  </tbody>\n",
       "</table></div>"
      ],
      "text/plain": [
       "   children  days_employed  dob_years education  education_id  \\\n",
       "0         1   -8437.673028         42    высшее             0   \n",
       "1         1   -4024.803754         36   среднее             1   \n",
       "2         0   -5623.422610         33   Среднее             1   \n",
       "3         3   -4124.747207         32   среднее             1   \n",
       "4         0  340266.072047         53   среднее             1   \n",
       "5         0    -926.185831         27    высшее             0   \n",
       "6         0   -2879.202052         43    высшее             0   \n",
       "7         0    -152.779569         50   СРЕДНЕЕ             1   \n",
       "8         2   -6929.865299         35    ВЫСШЕЕ             0   \n",
       "9         0   -2188.756445         41   среднее             1   \n",
       "\n",
       "      family_status  family_status_id gender income_type  debt   total_income  \\\n",
       "0   женат / замужем                 0      F   сотрудник     0  253875.639453   \n",
       "1   женат / замужем                 0      F   сотрудник     0  112080.014102   \n",
       "2   женат / замужем                 0      M   сотрудник     0  145885.952297   \n",
       "3   женат / замужем                 0      M   сотрудник     0  267628.550329   \n",
       "4  гражданский брак                 1      F   пенсионер     0  158616.077870   \n",
       "5  гражданский брак                 1      M   компаньон     0  255763.565419   \n",
       "6   женат / замужем                 0      F   компаньон     0  240525.971920   \n",
       "7   женат / замужем                 0      M   сотрудник     0  135823.934197   \n",
       "8  гражданский брак                 1      F   сотрудник     0   95856.832424   \n",
       "9   женат / замужем                 0      M   сотрудник     0  144425.938277   \n",
       "\n",
       "                      purpose  \n",
       "0               покупка жилья  \n",
       "1     приобретение автомобиля  \n",
       "2               покупка жилья  \n",
       "3  дополнительное образование  \n",
       "4             сыграть свадьбу  \n",
       "5               покупка жилья  \n",
       "6           операции с жильем  \n",
       "7                 образование  \n",
       "8       на проведение свадьбы  \n",
       "9     покупка жилья для семьи  "
      ]
     },
     "execution_count": 22,
     "metadata": {},
     "output_type": "execute_result"
    }
   ],
   "source": [
    "df = pd.read_csv('data.csv')\n",
    "df.info()\n",
    "df.head(10)"
   ]
  },
  {
   "cell_type": "markdown",
   "id": "a030d38e",
   "metadata": {},
   "source": [
    "### Вывод ###\n",
    "* Файл содержит таблицу, состоящую 21 525 строк и 12 колонок.\n",
    "* В колонках days_employed и total_income есть не все данные (по 19 351 строке).\n",
    "* В колонках days_employed и total_income указан некорректный тип данных (float64).\n",
    "* В колонках children и days_employed есть ошибки в данных.\n",
    "* Некоторые колонки нужно переименовать для лучшего понимания данных."
   ]
  },
  {
   "cell_type": "markdown",
   "id": "94132f9d",
   "metadata": {},
   "source": [
    "## Шаг 2. Предобработка данных ##"
   ]
  },
  {
   "cell_type": "markdown",
   "id": "da1286d1",
   "metadata": {},
   "source": [
    "### Изменение названий столбцов и обработка пропусков ###"
   ]
  },
  {
   "cell_type": "markdown",
   "id": "8b790363",
   "metadata": {},
   "source": [
    "Выводим текущие названия столбцов."
   ]
  },
  {
   "cell_type": "code",
   "execution_count": 23,
   "id": "7ca2b552",
   "metadata": {},
   "outputs": [
    {
     "data": {
      "text/plain": [
       "Index(['children', 'days_employed', 'dob_years', 'education', 'education_id',\n",
       "       'family_status', 'family_status_id', 'gender', 'income_type', 'debt',\n",
       "       'total_income', 'purpose'],\n",
       "      dtype='object')"
      ]
     },
     "execution_count": 23,
     "metadata": {},
     "output_type": "execute_result"
    }
   ],
   "source": [
    "df.columns"
   ]
  },
  {
   "cell_type": "markdown",
   "id": "aa5fc34f",
   "metadata": {},
   "source": [
    "Корректируем названия столбцов."
   ]
  },
  {
   "cell_type": "code",
   "execution_count": 24,
   "id": "c588a479",
   "metadata": {},
   "outputs": [
    {
     "data": {
      "text/plain": [
       "Index(['children_number', 'days_employed', 'age_years', 'education_level',\n",
       "       'education_level_id', 'family_status', 'family_status_id', 'gender',\n",
       "       'income_type', 'debt', 'total_income', 'loan_purpose'],\n",
       "      dtype='object')"
      ]
     },
     "execution_count": 24,
     "metadata": {},
     "output_type": "execute_result"
    }
   ],
   "source": [
    "df.rename(columns={'children': 'children_number', 'dob_years': 'age_years', 'education': 'education_level', 'education_id': 'education_level_id', 'purpose': 'loan_purpose'}, inplace=True)\n",
    "df.columns"
   ]
  },
  {
   "cell_type": "markdown",
   "id": "fb03091e",
   "metadata": {},
   "source": [
    "### Обработка пропусков ###"
   ]
  },
  {
   "cell_type": "markdown",
   "id": "13b192eb",
   "metadata": {},
   "source": [
    "Считаем доли пропусков."
   ]
  },
  {
   "cell_type": "code",
   "execution_count": 25,
   "id": "8156488a",
   "metadata": {},
   "outputs": [
    {
     "data": {
      "text/plain": [
       "children_number       0.000000\n",
       "days_employed         0.100999\n",
       "age_years             0.000000\n",
       "education_level       0.000000\n",
       "education_level_id    0.000000\n",
       "family_status         0.000000\n",
       "family_status_id      0.000000\n",
       "gender                0.000000\n",
       "income_type           0.000000\n",
       "debt                  0.000000\n",
       "total_income          0.100999\n",
       "loan_purpose          0.000000\n",
       "dtype: float64"
      ]
     },
     "execution_count": 25,
     "metadata": {},
     "output_type": "execute_result"
    }
   ],
   "source": [
    "df.isna().mean()"
   ]
  },
  {
   "cell_type": "markdown",
   "id": "079f0491",
   "metadata": {},
   "source": [
    "Доля пропусков в колонках days_employed и total_income одинаковая — 10%. Причинами появления пропусков могут быть технические проблемы при выгрузке из разных баз данных."
   ]
  },
  {
   "cell_type": "markdown",
   "id": "6ab50340",
   "metadata": {},
   "source": [
    "### Заполненияем пропуски ###"
   ]
  },
  {
   "cell_type": "markdown",
   "id": "86c3565f",
   "metadata": {},
   "source": [
    "days_employed: данные по этому столбцу не фигурируют в запросе Заказчика, поэтому пропуски заменяем нулями."
   ]
  },
  {
   "cell_type": "code",
   "execution_count": 26,
   "id": "aa7c2336",
   "metadata": {},
   "outputs": [],
   "source": [
    "df['days_employed'] = df['days_employed'].fillna(0)"
   ]
  },
  {
   "cell_type": "markdown",
   "id": "9c82e964",
   "metadata": {},
   "source": [
    "total_income заполним медианным значением в соответствии с типом занятости. Для этого сделаем:\n",
    "— расчет медианного значения по `income_type` и сохранение его в `med_table`"
   ]
  },
  {
   "cell_type": "code",
   "execution_count": 27,
   "id": "02a7b6a5",
   "metadata": {},
   "outputs": [],
   "source": [
    "med_table = df.groupby('income_type')['total_income'].median()"
   ]
  },
  {
   "cell_type": "markdown",
   "id": "dcc8e573",
   "metadata": {},
   "source": [
    "— подставновку рассчитанного медианного значения в пропущенные ячейки"
   ]
  },
  {
   "cell_type": "code",
   "execution_count": 28,
   "id": "2b7f0e15",
   "metadata": {},
   "outputs": [],
   "source": [
    "for income_type in med_table.index:\n",
    "    df.loc[(df['total_income'].isna()) & (df['income_type'] == income_type), 'total_income'] = med_table.loc[income_type]"
   ]
  },
  {
   "cell_type": "markdown",
   "id": "7ec31222",
   "metadata": {},
   "source": [
    "— проверяем наличие пропусков"
   ]
  },
  {
   "cell_type": "code",
   "execution_count": 29,
   "id": "6619e059",
   "metadata": {},
   "outputs": [
    {
     "name": "stdout",
     "output_type": "stream",
     "text": [
      "<class 'pandas.core.frame.DataFrame'>\n",
      "RangeIndex: 21525 entries, 0 to 21524\n",
      "Data columns (total 12 columns):\n",
      " #   Column              Non-Null Count  Dtype  \n",
      "---  ------              --------------  -----  \n",
      " 0   children_number     21525 non-null  int64  \n",
      " 1   days_employed       21525 non-null  float64\n",
      " 2   age_years           21525 non-null  int64  \n",
      " 3   education_level     21525 non-null  object \n",
      " 4   education_level_id  21525 non-null  int64  \n",
      " 5   family_status       21525 non-null  object \n",
      " 6   family_status_id    21525 non-null  int64  \n",
      " 7   gender              21525 non-null  object \n",
      " 8   income_type         21525 non-null  object \n",
      " 9   debt                21525 non-null  int64  \n",
      " 10  total_income        21525 non-null  float64\n",
      " 11  loan_purpose        21525 non-null  object \n",
      "dtypes: float64(2), int64(5), object(5)\n",
      "memory usage: 2.0+ MB\n"
     ]
    }
   ],
   "source": [
    "df.info()"
   ]
  },
  {
   "cell_type": "code",
   "execution_count": 30,
   "id": "23e5075a",
   "metadata": {},
   "outputs": [
    {
     "data": {
      "text/plain": [
       "income_type\n",
       "безработный        131339.751676\n",
       "в декрете           53829.130729\n",
       "госслужащий        150447.935283\n",
       "компаньон          172357.950966\n",
       "пенсионер          118514.486412\n",
       "предприниматель    499163.144947\n",
       "сотрудник          142594.396847\n",
       "студент             98201.625314\n",
       "Name: total_income, dtype: float64"
      ]
     },
     "execution_count": 30,
     "metadata": {},
     "output_type": "execute_result"
    }
   ],
   "source": [
    "med_table"
   ]
  },
  {
   "cell_type": "markdown",
   "id": "896f7f05",
   "metadata": {},
   "source": [
    "### Вывод ###\n",
    "* Скорректировано название колонок.\n",
    "* Заполнены все пропуски в данных."
   ]
  },
  {
   "cell_type": "markdown",
   "id": "8588c0ab",
   "metadata": {},
   "source": [
    "### Замена типа данных ###"
   ]
  },
  {
   "cell_type": "markdown",
   "id": "f6b011d0",
   "metadata": {},
   "source": [
    "Заменяем в колонках days_employed и total_income тип данных с float64 на int32."
   ]
  },
  {
   "cell_type": "code",
   "execution_count": 31,
   "id": "37cb49c2",
   "metadata": {},
   "outputs": [
    {
     "data": {
      "text/plain": [
       "children_number        int64\n",
       "days_employed          int32\n",
       "age_years              int64\n",
       "education_level       object\n",
       "education_level_id     int64\n",
       "family_status         object\n",
       "family_status_id       int64\n",
       "gender                object\n",
       "income_type           object\n",
       "debt                   int64\n",
       "total_income           int32\n",
       "loan_purpose          object\n",
       "dtype: object"
      ]
     },
     "execution_count": 31,
     "metadata": {},
     "output_type": "execute_result"
    }
   ],
   "source": [
    "for col in ['days_employed', 'total_income']:\n",
    "    df[col] = df[col].astype('int')\n",
    "df.dtypes"
   ]
  },
  {
   "cell_type": "markdown",
   "id": "c3207bd5",
   "metadata": {},
   "source": [
    "### Вывод ###\n",
    "* Тип данных изменен. Метод для их изменения был выбран в соответствии с начальным типом данных — float64."
   ]
  },
  {
   "cell_type": "markdown",
   "id": "6d22c2b5",
   "metadata": {},
   "source": [
    "### Обработка дубликатов ###"
   ]
  },
  {
   "cell_type": "markdown",
   "id": "1368bb43",
   "metadata": {},
   "source": [
    "Для более эффективного поиска дубликатов приведем данные в таблице к нижнему регистру с применением конструкции try-except, чтобы исключить возможные ошибки отсутствия атрибута str.lower в колонках таблицы — AttributeError."
   ]
  },
  {
   "cell_type": "code",
   "execution_count": 32,
   "id": "25e42daa",
   "metadata": {},
   "outputs": [],
   "source": [
    "for col in df.columns:\n",
    "    try:\n",
    "        df[col] = df[col].str.lower()\n",
    "    except AttributeError:\n",
    "        pass"
   ]
  },
  {
   "cell_type": "markdown",
   "id": "0ace5ed1",
   "metadata": {},
   "source": [
    "Считаем количество дубликатов в таблице."
   ]
  },
  {
   "cell_type": "code",
   "execution_count": 33,
   "id": "d9426fd8",
   "metadata": {},
   "outputs": [
    {
     "data": {
      "text/plain": [
       "71"
      ]
     },
     "execution_count": 33,
     "metadata": {},
     "output_type": "execute_result"
    }
   ],
   "source": [
    "df.duplicated().sum()"
   ]
  },
  {
   "cell_type": "markdown",
   "id": "4bd04189",
   "metadata": {},
   "source": [
    "Удаляем дубликаты с помощью drop_duplicates, оставляя первую строку из перечня дублей."
   ]
  },
  {
   "cell_type": "code",
   "execution_count": 34,
   "id": "47897493",
   "metadata": {},
   "outputs": [],
   "source": [
    "df = df.drop_duplicates()"
   ]
  },
  {
   "cell_type": "code",
   "execution_count": 35,
   "id": "ad6d14b5",
   "metadata": {},
   "outputs": [
    {
     "data": {
      "text/plain": [
       "0"
      ]
     },
     "execution_count": 35,
     "metadata": {},
     "output_type": "execute_result"
    }
   ],
   "source": [
    "df.duplicated().sum()"
   ]
  },
  {
   "cell_type": "code",
   "execution_count": 36,
   "id": "6a846998",
   "metadata": {},
   "outputs": [
    {
     "data": {
      "text/html": [
       "<div><div id=f27913ab-f49b-4ee5-bfaa-887061b8d2fa style=\"display:none; background-color:#9D6CFF; color:white; width:200px; height:30px; padding-left:5px; border-radius:4px; flex-direction:row; justify-content:space-around; align-items:center;\" onmouseover=\"this.style.backgroundColor='#BA9BF8'\" onmouseout=\"this.style.backgroundColor='#9D6CFF'\" onclick=\"window.commands?.execute('create-mitosheet-from-dataframe-output');\">See Full Dataframe in Mito</div> <script> if (window.commands.hasCommand('create-mitosheet-from-dataframe-output')) document.getElementById('f27913ab-f49b-4ee5-bfaa-887061b8d2fa').style.display = 'flex' </script> <table border=\"1\" class=\"dataframe\">\n",
       "  <thead>\n",
       "    <tr style=\"text-align: right;\">\n",
       "      <th></th>\n",
       "      <th>children_number</th>\n",
       "      <th>days_employed</th>\n",
       "      <th>age_years</th>\n",
       "      <th>education_level</th>\n",
       "      <th>education_level_id</th>\n",
       "      <th>family_status</th>\n",
       "      <th>family_status_id</th>\n",
       "      <th>gender</th>\n",
       "      <th>income_type</th>\n",
       "      <th>debt</th>\n",
       "      <th>total_income</th>\n",
       "      <th>loan_purpose</th>\n",
       "    </tr>\n",
       "  </thead>\n",
       "  <tbody>\n",
       "    <tr>\n",
       "      <th>0</th>\n",
       "      <td>1</td>\n",
       "      <td>-8437</td>\n",
       "      <td>42</td>\n",
       "      <td>высшее</td>\n",
       "      <td>0</td>\n",
       "      <td>женат / замужем</td>\n",
       "      <td>0</td>\n",
       "      <td>f</td>\n",
       "      <td>сотрудник</td>\n",
       "      <td>0</td>\n",
       "      <td>253875</td>\n",
       "      <td>покупка жилья</td>\n",
       "    </tr>\n",
       "    <tr>\n",
       "      <th>1</th>\n",
       "      <td>1</td>\n",
       "      <td>-4024</td>\n",
       "      <td>36</td>\n",
       "      <td>среднее</td>\n",
       "      <td>1</td>\n",
       "      <td>женат / замужем</td>\n",
       "      <td>0</td>\n",
       "      <td>f</td>\n",
       "      <td>сотрудник</td>\n",
       "      <td>0</td>\n",
       "      <td>112080</td>\n",
       "      <td>приобретение автомобиля</td>\n",
       "    </tr>\n",
       "    <tr>\n",
       "      <th>2</th>\n",
       "      <td>0</td>\n",
       "      <td>-5623</td>\n",
       "      <td>33</td>\n",
       "      <td>среднее</td>\n",
       "      <td>1</td>\n",
       "      <td>женат / замужем</td>\n",
       "      <td>0</td>\n",
       "      <td>m</td>\n",
       "      <td>сотрудник</td>\n",
       "      <td>0</td>\n",
       "      <td>145885</td>\n",
       "      <td>покупка жилья</td>\n",
       "    </tr>\n",
       "    <tr>\n",
       "      <th>3</th>\n",
       "      <td>3</td>\n",
       "      <td>-4124</td>\n",
       "      <td>32</td>\n",
       "      <td>среднее</td>\n",
       "      <td>1</td>\n",
       "      <td>женат / замужем</td>\n",
       "      <td>0</td>\n",
       "      <td>m</td>\n",
       "      <td>сотрудник</td>\n",
       "      <td>0</td>\n",
       "      <td>267628</td>\n",
       "      <td>дополнительное образование</td>\n",
       "    </tr>\n",
       "    <tr>\n",
       "      <th>4</th>\n",
       "      <td>0</td>\n",
       "      <td>340266</td>\n",
       "      <td>53</td>\n",
       "      <td>среднее</td>\n",
       "      <td>1</td>\n",
       "      <td>гражданский брак</td>\n",
       "      <td>1</td>\n",
       "      <td>f</td>\n",
       "      <td>пенсионер</td>\n",
       "      <td>0</td>\n",
       "      <td>158616</td>\n",
       "      <td>сыграть свадьбу</td>\n",
       "    </tr>\n",
       "  </tbody>\n",
       "</table></div>"
      ],
      "text/plain": [
       "   children_number  days_employed  age_years education_level  \\\n",
       "0                1          -8437         42          высшее   \n",
       "1                1          -4024         36         среднее   \n",
       "2                0          -5623         33         среднее   \n",
       "3                3          -4124         32         среднее   \n",
       "4                0         340266         53         среднее   \n",
       "\n",
       "   education_level_id     family_status  family_status_id gender income_type  \\\n",
       "0                   0   женат / замужем                 0      f   сотрудник   \n",
       "1                   1   женат / замужем                 0      f   сотрудник   \n",
       "2                   1   женат / замужем                 0      m   сотрудник   \n",
       "3                   1   женат / замужем                 0      m   сотрудник   \n",
       "4                   1  гражданский брак                 1      f   пенсионер   \n",
       "\n",
       "   debt  total_income                loan_purpose  \n",
       "0     0        253875               покупка жилья  \n",
       "1     0        112080     приобретение автомобиля  \n",
       "2     0        145885               покупка жилья  \n",
       "3     0        267628  дополнительное образование  \n",
       "4     0        158616             сыграть свадьбу  "
      ]
     },
     "execution_count": 36,
     "metadata": {},
     "output_type": "execute_result"
    }
   ],
   "source": [
    "df.head()"
   ]
  },
  {
   "cell_type": "markdown",
   "id": "909cb13a",
   "metadata": {},
   "source": [
    "### Вывод ###\n",
    "* В таблице был 71 дубликат. После их выявления они были удалены. Возможные причины появления дубликатов — технические проблемы при выгрузке из разных баз данных."
   ]
  },
  {
   "cell_type": "markdown",
   "id": "7bab07c8",
   "metadata": {},
   "source": [
    "### Категоризация данных ###"
   ]
  },
  {
   "cell_type": "markdown",
   "id": "4dba179d",
   "metadata": {},
   "source": [
    "При работе с набором данных были созданы и использованы следующие «словари»:\n",
    "\n",
    "* columns — для переименования названий колонок;\n",
    "* med_table — для подставновки рассчитанного медианного значения в пропущенные ячейки колонки total_income;\n",
    "* {-1: 1, 20: 2} — для корректировки значений в колонке children_number."
   ]
  },
  {
   "cell_type": "code",
   "execution_count": 37,
   "id": "33b35062",
   "metadata": {
    "scrolled": true
   },
   "outputs": [
    {
     "data": {
      "text/plain": [
       "0    14091\n",
       "1     4855\n",
       "2     2128\n",
       "3      330\n",
       "4       41\n",
       "5        9\n",
       "Name: children_number, dtype: int64"
      ]
     },
     "execution_count": 37,
     "metadata": {},
     "output_type": "execute_result"
    }
   ],
   "source": [
    "df['children_number'] = df['children_number'].replace({-1 : 1, 20 : 2})\n",
    "df.children_number.value_counts()"
   ]
  },
  {
   "cell_type": "markdown",
   "id": "22449957",
   "metadata": {},
   "source": [
    "## Шаг 3. Ответьте на вопросы ## "
   ]
  },
  {
   "cell_type": "markdown",
   "id": "ae9afb04",
   "metadata": {},
   "source": [
    "* Есть ли зависимость между наличием детей и возвратом кредита в срок?"
   ]
  },
  {
   "cell_type": "code",
   "execution_count": 38,
   "id": "3292a22b",
   "metadata": {},
   "outputs": [
    {
     "data": {
      "text/html": [
       "<div><div id=6e044de0-a4b4-4f41-bc60-a73c6393a935 style=\"display:none; background-color:#9D6CFF; color:white; width:200px; height:30px; padding-left:5px; border-radius:4px; flex-direction:row; justify-content:space-around; align-items:center;\" onmouseover=\"this.style.backgroundColor='#BA9BF8'\" onmouseout=\"this.style.backgroundColor='#9D6CFF'\" onclick=\"window.commands?.execute('create-mitosheet-from-dataframe-output');\">See Full Dataframe in Mito</div> <script> if (window.commands.hasCommand('create-mitosheet-from-dataframe-output')) document.getElementById('6e044de0-a4b4-4f41-bc60-a73c6393a935').style.display = 'flex' </script> <table border=\"1\" class=\"dataframe\">\n",
       "  <thead>\n",
       "    <tr style=\"text-align: right;\">\n",
       "      <th></th>\n",
       "      <th>Общее количество заемщиков</th>\n",
       "      <th>Количество просрочников</th>\n",
       "      <th>%</th>\n",
       "    </tr>\n",
       "    <tr>\n",
       "      <th>children_number</th>\n",
       "      <th></th>\n",
       "      <th></th>\n",
       "      <th></th>\n",
       "    </tr>\n",
       "  </thead>\n",
       "  <tbody>\n",
       "    <tr>\n",
       "      <th>0</th>\n",
       "      <td>14091</td>\n",
       "      <td>1063</td>\n",
       "      <td>7.54</td>\n",
       "    </tr>\n",
       "    <tr>\n",
       "      <th>1</th>\n",
       "      <td>4855</td>\n",
       "      <td>445</td>\n",
       "      <td>9.17</td>\n",
       "    </tr>\n",
       "    <tr>\n",
       "      <th>2</th>\n",
       "      <td>2128</td>\n",
       "      <td>202</td>\n",
       "      <td>9.49</td>\n",
       "    </tr>\n",
       "    <tr>\n",
       "      <th>3</th>\n",
       "      <td>330</td>\n",
       "      <td>27</td>\n",
       "      <td>8.18</td>\n",
       "    </tr>\n",
       "    <tr>\n",
       "      <th>4</th>\n",
       "      <td>41</td>\n",
       "      <td>4</td>\n",
       "      <td>9.76</td>\n",
       "    </tr>\n",
       "    <tr>\n",
       "      <th>5</th>\n",
       "      <td>9</td>\n",
       "      <td>0</td>\n",
       "      <td>0.00</td>\n",
       "    </tr>\n",
       "  </tbody>\n",
       "</table></div>"
      ],
      "text/plain": [
       "                 Общее количество заемщиков  Количество просрочников     %\n",
       "children_number                                                           \n",
       "0                                     14091                     1063  7.54\n",
       "1                                      4855                      445  9.17\n",
       "2                                      2128                      202  9.49\n",
       "3                                       330                       27  8.18\n",
       "4                                        41                        4  9.76\n",
       "5                                         9                        0  0.00"
      ]
     },
     "execution_count": 38,
     "metadata": {},
     "output_type": "execute_result"
    }
   ],
   "source": [
    "children_debt = df.pivot_table(index = 'children_number', values = 'debt', aggfunc=['count','sum'])\n",
    "children_debt['%'] = round((children_debt[('sum', 'debt')] / children_debt[('count', 'debt')])*100,2)\n",
    "children_debt.columns = ['Общее количество заемщиков', 'Количество просрочников','%']\n",
    "children_debt"
   ]
  },
  {
   "cell_type": "markdown",
   "id": "9eaff3a8",
   "metadata": {},
   "source": [
    "### Вывод ###\n",
    "Несмотря на максимальное количество клиентов с просроченными кредитами у которых нет детей, доля их в сравнении с иными категориями клиентов меньшая и составляет 7,54%, в то время как доли просроченных кредитов у клиентов имеющих от 1 до 4 детей — от 8,18% до 9,76%. В силу малого количества попавших в выборку клиентов с 5-ю детьми, данные по ним можно не учитывать."
   ]
  },
  {
   "cell_type": "markdown",
   "id": "d485222e",
   "metadata": {},
   "source": [
    "* Есть ли зависимость между семейным положением и возвратом кредита в срок?"
   ]
  },
  {
   "cell_type": "code",
   "execution_count": 39,
   "id": "45fff36f",
   "metadata": {},
   "outputs": [
    {
     "data": {
      "text/html": [
       "<div><div id=5656fe75-4a13-4d8d-8252-26a787b3aa4d style=\"display:none; background-color:#9D6CFF; color:white; width:200px; height:30px; padding-left:5px; border-radius:4px; flex-direction:row; justify-content:space-around; align-items:center;\" onmouseover=\"this.style.backgroundColor='#BA9BF8'\" onmouseout=\"this.style.backgroundColor='#9D6CFF'\" onclick=\"window.commands?.execute('create-mitosheet-from-dataframe-output');\">See Full Dataframe in Mito</div> <script> if (window.commands.hasCommand('create-mitosheet-from-dataframe-output')) document.getElementById('5656fe75-4a13-4d8d-8252-26a787b3aa4d').style.display = 'flex' </script> <table border=\"1\" class=\"dataframe\">\n",
       "  <thead>\n",
       "    <tr style=\"text-align: right;\">\n",
       "      <th></th>\n",
       "      <th>Общее количество заемщиков</th>\n",
       "      <th>Количество просрочников</th>\n",
       "      <th>%</th>\n",
       "    </tr>\n",
       "    <tr>\n",
       "      <th>family_status</th>\n",
       "      <th></th>\n",
       "      <th></th>\n",
       "      <th></th>\n",
       "    </tr>\n",
       "  </thead>\n",
       "  <tbody>\n",
       "    <tr>\n",
       "      <th>не женат / не замужем</th>\n",
       "      <td>2810</td>\n",
       "      <td>274</td>\n",
       "      <td>9.75</td>\n",
       "    </tr>\n",
       "    <tr>\n",
       "      <th>гражданский брак</th>\n",
       "      <td>4151</td>\n",
       "      <td>388</td>\n",
       "      <td>9.35</td>\n",
       "    </tr>\n",
       "    <tr>\n",
       "      <th>женат / замужем</th>\n",
       "      <td>12339</td>\n",
       "      <td>931</td>\n",
       "      <td>7.55</td>\n",
       "    </tr>\n",
       "    <tr>\n",
       "      <th>в разводе</th>\n",
       "      <td>1195</td>\n",
       "      <td>85</td>\n",
       "      <td>7.11</td>\n",
       "    </tr>\n",
       "    <tr>\n",
       "      <th>вдовец / вдова</th>\n",
       "      <td>959</td>\n",
       "      <td>63</td>\n",
       "      <td>6.57</td>\n",
       "    </tr>\n",
       "  </tbody>\n",
       "</table></div>"
      ],
      "text/plain": [
       "                       Общее количество заемщиков  Количество просрочников  \\\n",
       "family_status                                                                \n",
       "не женат / не замужем                        2810                      274   \n",
       "гражданский брак                             4151                      388   \n",
       "женат / замужем                             12339                      931   \n",
       "в разводе                                    1195                       85   \n",
       "вдовец / вдова                                959                       63   \n",
       "\n",
       "                          %  \n",
       "family_status                \n",
       "не женат / не замужем  9.75  \n",
       "гражданский брак       9.35  \n",
       "женат / замужем        7.55  \n",
       "в разводе              7.11  \n",
       "вдовец / вдова         6.57  "
      ]
     },
     "execution_count": 39,
     "metadata": {},
     "output_type": "execute_result"
    }
   ],
   "source": [
    "family_status_debt = df.pivot_table(index = 'family_status', values = 'debt',aggfunc = ['count', 'sum'])\n",
    "family_status_debt['%'] = round((family_status_debt[('sum', 'debt')] / family_status_debt[('count', 'debt')])*100,2)\n",
    "family_status_debt.columns = ['Общее количество заемщиков', 'Количество просрочников','%']\n",
    "family_status_debt.sort_values(by = '%', ascending = False)"
   ]
  },
  {
   "cell_type": "markdown",
   "id": "c55d71e7",
   "metadata": {},
   "source": [
    "### Вывод ###\n",
    "В большей степени просрочку допускают заемщики, не женатые / не замужние — 9,75% от общего количества всех не женатых / не замужних. Также от них не сильно отстают те, кто живет в гражданском браке — 9,35% от общего числа состоящих в гражданском браке."
   ]
  },
  {
   "cell_type": "markdown",
   "id": "22b2f4d2",
   "metadata": {},
   "source": [
    "* Есть ли зависимость между уровнем дохода и возвратом кредита в срок?"
   ]
  },
  {
   "cell_type": "code",
   "execution_count": 40,
   "id": "852f260f",
   "metadata": {},
   "outputs": [
    {
     "data": {
      "text/html": [
       "<div><div id=59162491-676a-48db-94da-6d7b680e70bd style=\"display:none; background-color:#9D6CFF; color:white; width:200px; height:30px; padding-left:5px; border-radius:4px; flex-direction:row; justify-content:space-around; align-items:center;\" onmouseover=\"this.style.backgroundColor='#BA9BF8'\" onmouseout=\"this.style.backgroundColor='#9D6CFF'\" onclick=\"window.commands?.execute('create-mitosheet-from-dataframe-output');\">See Full Dataframe in Mito</div> <script> if (window.commands.hasCommand('create-mitosheet-from-dataframe-output')) document.getElementById('59162491-676a-48db-94da-6d7b680e70bd').style.display = 'flex' </script> <table border=\"1\" class=\"dataframe\">\n",
       "  <thead>\n",
       "    <tr style=\"text-align: right;\">\n",
       "      <th></th>\n",
       "      <th>Общее количество заемщиков</th>\n",
       "      <th>Количество просрочников</th>\n",
       "      <th>%</th>\n",
       "    </tr>\n",
       "    <tr>\n",
       "      <th>income_groups</th>\n",
       "      <th></th>\n",
       "      <th></th>\n",
       "      <th></th>\n",
       "    </tr>\n",
       "  </thead>\n",
       "  <tbody>\n",
       "    <tr>\n",
       "      <th>до 50 тыс. руб.</th>\n",
       "      <td>372</td>\n",
       "      <td>23</td>\n",
       "      <td>6.18</td>\n",
       "    </tr>\n",
       "    <tr>\n",
       "      <th>50-100 тыс. руб.</th>\n",
       "      <td>4091</td>\n",
       "      <td>331</td>\n",
       "      <td>8.09</td>\n",
       "    </tr>\n",
       "    <tr>\n",
       "      <th>100-150 тыс. руб.</th>\n",
       "      <td>7160</td>\n",
       "      <td>624</td>\n",
       "      <td>8.72</td>\n",
       "    </tr>\n",
       "    <tr>\n",
       "      <th>150-200 тыс. руб.</th>\n",
       "      <td>4764</td>\n",
       "      <td>405</td>\n",
       "      <td>8.50</td>\n",
       "    </tr>\n",
       "    <tr>\n",
       "      <th>свыше 200 тыс. руб.</th>\n",
       "      <td>5067</td>\n",
       "      <td>358</td>\n",
       "      <td>7.07</td>\n",
       "    </tr>\n",
       "  </tbody>\n",
       "</table></div>"
      ],
      "text/plain": [
       "                     Общее количество заемщиков  Количество просрочников     %\n",
       "income_groups                                                                 \n",
       "до 50 тыс. руб.                             372                       23  6.18\n",
       "50-100 тыс. руб.                           4091                      331  8.09\n",
       "100-150 тыс. руб.                          7160                      624  8.72\n",
       "150-200 тыс. руб.                          4764                      405  8.50\n",
       "свыше 200 тыс. руб.                        5067                      358  7.07"
      ]
     },
     "execution_count": 40,
     "metadata": {},
     "output_type": "execute_result"
    }
   ],
   "source": [
    "total_income_debt = pd.DataFrame(df, columns = ['total_income', 'debt'])\n",
    "total_income_debt['income_groups'] = pd.cut(total_income_debt['total_income'],[0,50000,100000,150000,200000,np.inf], labels = [\"до 50 тыс. руб.\", \"50-100 тыс. руб.\", \"100-150 тыс. руб.\",\"150-200 тыс. руб.\",\"свыше 200 тыс. руб.\"])\n",
    "total_income_debt = total_income_debt.groupby('income_groups')['debt'].agg(['count', 'sum'])\n",
    "total_income_debt['%'] = round((total_income_debt[('sum')] / total_income_debt[('count')])*100,2)\n",
    "total_income_debt.columns = ['Общее количество заемщиков','Количество просрочников','%']\n",
    "total_income_debt"
   ]
  },
  {
   "cell_type": "markdown",
   "id": "1e3ce6c3",
   "metadata": {},
   "source": [
    "### Вывод ###\n",
    "Прямой зависимости между уровнем дохода и наличием просроченной задолженности нет. Доля просроченных заемщиков колеблется от 8,09% до 8,72%."
   ]
  },
  {
   "cell_type": "markdown",
   "id": "392b0dff",
   "metadata": {},
   "source": [
    "## Шаг 4. Общий вывод ##"
   ]
  },
  {
   "cell_type": "code",
   "execution_count": 41,
   "id": "1d1bc74c",
   "metadata": {},
   "outputs": [
    {
     "name": "stdout",
     "output_type": "stream",
     "text": [
      "Средняя просрочка по кредитному портфелю: 8.1 %\n"
     ]
    }
   ],
   "source": [
    "print(\"Средняя просрочка по кредитному портфелю: %.1f\" % ((df['debt'].sum() / len(df)*100)), '%')"
   ]
  },
  {
   "cell_type": "markdown",
   "id": "447c9428",
   "metadata": {},
   "source": [
    "Для снижения количества просроченных кредитов рекомендуется пересмотреть скоринговую политику в отношении следующих групп клиентов:\n",
    "\n",
    "* Клиентов с детьми.\n",
    "* Не женатых/холостых, а также клиентов, состояющих в гражданском браке.\n",
    "* Клиентов, подающих заявку на автокредитование."
   ]
  }
 ],
 "metadata": {
  "kernelspec": {
   "display_name": "Python 3 (ipykernel)",
   "language": "python",
   "name": "python3"
  },
  "language_info": {
   "codemirror_mode": {
    "name": "ipython",
    "version": 3
   },
   "file_extension": ".py",
   "mimetype": "text/x-python",
   "name": "python",
   "nbconvert_exporter": "python",
   "pygments_lexer": "ipython3",
   "version": "3.10.0"
  }
 },
 "nbformat": 4,
 "nbformat_minor": 5
}
