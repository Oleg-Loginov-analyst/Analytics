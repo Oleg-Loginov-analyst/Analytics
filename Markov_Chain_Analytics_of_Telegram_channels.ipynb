{
  "nbformat": 4,
  "nbformat_minor": 0,
  "metadata": {
    "celltoolbar": "Create Assignment",
    "kernelspec": {
      "name": "python3",
      "display_name": "Python 3"
    },
    "toc": {
      "base_numbering": 1,
      "nav_menu": {},
      "number_sections": true,
      "sideBar": true,
      "skip_h1_title": false,
      "title_cell": "Table of Contents",
      "title_sidebar": "Contents",
      "toc_cell": false,
      "toc_position": {},
      "toc_section_display": true,
      "toc_window_display": false
    },
    "colab": {
      "name": "Markov Chain: Analytics of Telegram channels",
      "provenance": [],
      "collapsed_sections": []
    },
    "language_info": {
      "name": "python"
    }
  },
  "cells": [
    {
      "cell_type": "markdown",
      "metadata": {
        "deletable": false,
        "editable": false,
        "nbgrader": {
          "grade": false,
          "grade_id": "intro",
          "locked": true,
          "schema_version": 1,
          "solution": false
        },
        "id": "ME1-ujzQ8qaz"
      },
      "source": [
        "# \"Куда ты тропинка меня привела?\":  моделируем переходы читателя по  телеграм-каналам с помощью Марковской цепи\n",
        "\n",
        "Представим себе человека, который читает телеграм-канал i, а затем случайным образом переходит для чтения в канал j, который упоминается в канале i. Канал может упоминаться в виде ссылки вида @ или t.me, а также репоста материала. Если мы представим каналы i и j узлами графа, то связь i с j  назовем ребром i → j. После перехода в канал j, человек повторяет процесс случайного выбора нового канала j → k. \n",
        "\n",
        "В нашем случае дано 217 телеграм-каналов аналитической тематики (от анализа данных до визуализации), связанных 1428 упоминаниями (подробности в [статье](https://leftjoin.ru/all/analytical-telegram-channels-graph/)). \n",
        "\n",
        "Где с наибольшей вероятностью окажется человек, если будет переходить итеративно по всем упоминаниям в каналах?  \n",
        "\n"
      ]
    },
    {
      "cell_type": "code",
      "metadata": {
        "deletable": false,
        "editable": false,
        "nbgrader": {
          "grade": false,
          "grade_id": "setup",
          "locked": true,
          "schema_version": 1,
          "solution": false
        },
        "id": "BMxgyTyP8qbY"
      },
      "source": [
        "# загружаем нужные библиотеки\n",
        "import sys\n",
        "import numpy as np\n",
        "import scipy as sp\n",
        "import scipy.sparse\n",
        "import pandas as pd\n",
        "\n",
        "import time\n",
        "from io import BytesIO\n",
        "import requests\n",
        "\n",
        "import matplotlib.pyplot as plt\n",
        "%matplotlib inline\n",
        "\n",
        "from IPython.display import display, Markdown "
      ],
      "execution_count": null,
      "outputs": []
    },
    {
      "cell_type": "markdown",
      "metadata": {
        "deletable": false,
        "editable": false,
        "nbgrader": {
          "grade": false,
          "grade_id": "download_intro",
          "locked": true,
          "schema_version": 1,
          "solution": false
        },
        "id": "wYRZ-KwY8qbe"
      },
      "source": [
        "## 1: Загрузка и исследование данных\n"
      ]
    },
    {
      "cell_type": "markdown",
      "metadata": {
        "id": "o2Epv3ojXohZ"
      },
      "source": [
        "Загружаем данные каналов из Google Sheets в следующем формате:\n",
        "* id - уникальный идентификатор канала\n",
        "* link - адрес канала в телеграм\n",
        "* name - название канала\n",
        "* description - описание"
      ]
    },
    {
      "cell_type": "code",
      "metadata": {
        "deletable": false,
        "editable": false,
        "nbgrader": {
          "grade": false,
          "grade_id": "show_airport_codes",
          "locked": true,
          "schema_version": 1,
          "solution": false
        },
        "colab": {
          "base_uri": "https://localhost:8080/",
          "height": 221
        },
        "id": "JSKbT--J8qbi",
        "outputId": "7dc94abd-fa1c-4343-9458-32b85f04558c"
      },
      "source": [
        "req = requests.get('https://docs.google.com/spreadsheets/d/e/2PACX-1vRllDtCYQzdVoxmOBC4Qt0T8NsVYBHQhg_kXL2Mv6f25CmJM5HFaxCGCW7w5PSCR0jU78ddf_VUk7jQ/pub?output=csv')\n",
        "data = req.content\n",
        "nodes = pd.read_csv(BytesIO(data), encoding='utf-8-sig')\n",
        "print(\"Число загруженных каналов: {}\".format (len(nodes)))\n",
        "nodes.head()"
      ],
      "execution_count": null,
      "outputs": [
        {
          "output_type": "stream",
          "name": "stdout",
          "text": [
            "Число загруженных каналов: 217\n"
          ]
        },
        {
          "output_type": "execute_result",
          "data": {
            "text/html": [
              "<div>\n",
              "<style scoped>\n",
              "    .dataframe tbody tr th:only-of-type {\n",
              "        vertical-align: middle;\n",
              "    }\n",
              "\n",
              "    .dataframe tbody tr th {\n",
              "        vertical-align: top;\n",
              "    }\n",
              "\n",
              "    .dataframe thead th {\n",
              "        text-align: right;\n",
              "    }\n",
              "</style>\n",
              "<table border=\"1\" class=\"dataframe\">\n",
              "  <thead>\n",
              "    <tr style=\"text-align: right;\">\n",
              "      <th></th>\n",
              "      <th>id</th>\n",
              "      <th>link</th>\n",
              "      <th>name</th>\n",
              "      <th>description</th>\n",
              "    </tr>\n",
              "  </thead>\n",
              "  <tbody>\n",
              "    <tr>\n",
              "      <th>0</th>\n",
              "      <td>1407735984</td>\n",
              "      <td>https://t.me/leftjoin</td>\n",
              "      <td>LEFT JOIN</td>\n",
              "      <td>Make data work. Канал об аналитике блога leftj...</td>\n",
              "    </tr>\n",
              "    <tr>\n",
              "      <th>1</th>\n",
              "      <td>1387835436</td>\n",
              "      <td>https://t.me/nastengraph</td>\n",
              "      <td>настенька и графики</td>\n",
              "      <td>Тут датавиз аналитика и всякое полезное и инте...</td>\n",
              "    </tr>\n",
              "    <tr>\n",
              "      <th>2</th>\n",
              "      <td>1329188755</td>\n",
              "      <td>https://t.me/rockyourdata</td>\n",
              "      <td>Инжиниринг Данных</td>\n",
              "      <td>Канал для всех кто интересуется или работает с...</td>\n",
              "    </tr>\n",
              "    <tr>\n",
              "      <th>3</th>\n",
              "      <td>1195518065</td>\n",
              "      <td>https://t.me/data_csv</td>\n",
              "      <td>data.csv</td>\n",
              "      <td>Блог о журналистике данных и дата-сторителлинг...</td>\n",
              "    </tr>\n",
              "    <tr>\n",
              "      <th>4</th>\n",
              "      <td>1490689117</td>\n",
              "      <td>https://t.me/revealthedata</td>\n",
              "      <td>Reveal the Data</td>\n",
              "      <td>Канал Ромы Бунина про визуализацию данных разв...</td>\n",
              "    </tr>\n",
              "  </tbody>\n",
              "</table>\n",
              "</div>"
            ],
            "text/plain": [
              "           id  ...                                        description\n",
              "0  1407735984  ...  Make data work. Канал об аналитике блога leftj...\n",
              "1  1387835436  ...  Тут датавиз аналитика и всякое полезное и инте...\n",
              "2  1329188755  ...  Канал для всех кто интересуется или работает с...\n",
              "3  1195518065  ...  Блог о журналистике данных и дата-сторителлинг...\n",
              "4  1490689117  ...  Канал Ромы Бунина про визуализацию данных разв...\n",
              "\n",
              "[5 rows x 4 columns]"
            ]
          },
          "metadata": {},
          "execution_count": 13
        }
      ]
    },
    {
      "cell_type": "markdown",
      "metadata": {
        "id": "2MVPTW5Y8JNf"
      },
      "source": [
        "Загружаем данные связей каналов (упоминаний одним каналом других) в следующем формате:\n",
        "* source - идентификатор канала-источника\n",
        "* target - идентификатор целевого канала\n",
        "* count - количество упоминаний целевого канала в канале-источнике"
      ]
    },
    {
      "cell_type": "code",
      "metadata": {
        "deletable": false,
        "editable": false,
        "nbgrader": {
          "grade": false,
          "grade_id": "flights",
          "locked": true,
          "schema_version": 1,
          "solution": false
        },
        "colab": {
          "base_uri": "https://localhost:8080/",
          "height": 221
        },
        "id": "SawGIZdX8qbl",
        "outputId": "754bc2a7-5991-4f5f-91aa-7fee6e8f9304"
      },
      "source": [
        "req = requests.get('https://docs.google.com/spreadsheets/d/e/2PACX-1vR5iptxPqQZXV6E5wSjd42bIzhTU9XV6sN-A9oc4P6mkKXb88nm9Fza5GmdQ8VF98yIGRNPJR4ktuHI/pub?output=csv')\n",
        "data = req.content\n",
        "edges = pd.read_csv(BytesIO(data))\n",
        "print(\"Число загруженных упоминаний: {}\".format (len(edges)))\n",
        "edges.head()"
      ],
      "execution_count": null,
      "outputs": [
        {
          "output_type": "stream",
          "name": "stdout",
          "text": [
            "Число загруженных упоминаний: 1428\n"
          ]
        },
        {
          "output_type": "execute_result",
          "data": {
            "text/html": [
              "<div>\n",
              "<style scoped>\n",
              "    .dataframe tbody tr th:only-of-type {\n",
              "        vertical-align: middle;\n",
              "    }\n",
              "\n",
              "    .dataframe tbody tr th {\n",
              "        vertical-align: top;\n",
              "    }\n",
              "\n",
              "    .dataframe thead th {\n",
              "        text-align: right;\n",
              "    }\n",
              "</style>\n",
              "<table border=\"1\" class=\"dataframe\">\n",
              "  <thead>\n",
              "    <tr style=\"text-align: right;\">\n",
              "      <th></th>\n",
              "      <th>source</th>\n",
              "      <th>target</th>\n",
              "      <th>count</th>\n",
              "    </tr>\n",
              "  </thead>\n",
              "  <tbody>\n",
              "    <tr>\n",
              "      <th>0</th>\n",
              "      <td>1004393721</td>\n",
              "      <td>1430200876</td>\n",
              "      <td>2</td>\n",
              "    </tr>\n",
              "    <tr>\n",
              "      <th>1</th>\n",
              "      <td>1004393721</td>\n",
              "      <td>1490689117</td>\n",
              "      <td>10</td>\n",
              "    </tr>\n",
              "    <tr>\n",
              "      <th>2</th>\n",
              "      <td>1004393721</td>\n",
              "      <td>1407735984</td>\n",
              "      <td>3</td>\n",
              "    </tr>\n",
              "    <tr>\n",
              "      <th>3</th>\n",
              "      <td>1004393721</td>\n",
              "      <td>1462487554</td>\n",
              "      <td>1</td>\n",
              "    </tr>\n",
              "    <tr>\n",
              "      <th>4</th>\n",
              "      <td>1004393721</td>\n",
              "      <td>1329188755</td>\n",
              "      <td>1</td>\n",
              "    </tr>\n",
              "  </tbody>\n",
              "</table>\n",
              "</div>"
            ],
            "text/plain": [
              "       source      target  count\n",
              "0  1004393721  1430200876      2\n",
              "1  1004393721  1490689117     10\n",
              "2  1004393721  1407735984      3\n",
              "3  1004393721  1462487554      1\n",
              "4  1004393721  1329188755      1"
            ]
          },
          "metadata": {},
          "execution_count": 14
        }
      ]
    },
    {
      "cell_type": "markdown",
      "metadata": {
        "id": "RyWUfKqCviMd"
      },
      "source": [
        "Получим топ-10 каналов по количеству упоминаний других каналов. "
      ]
    },
    {
      "cell_type": "code",
      "metadata": {
        "colab": {
          "base_uri": "https://localhost:8080/",
          "height": 359
        },
        "id": "RDzFHY3VIAML",
        "outputId": "e3ed1ba7-b8c2-46fa-ced2-82e9872cf89b"
      },
      "source": [
        "sources = edges[['source', 'count']].groupby('source', as_index=False).count()\n",
        "sources_top = sources.sort_values(by='count', ascending=False)\n",
        "sources_top.rename(columns={'source': 'id'}, inplace=True)\n",
        "sources_top=sources_top.merge(nodes, on=\"id\", how=\"left\")\n",
        "#убираем лишние колонки\n",
        "del(sources_top['link'])\n",
        "del(sources_top['description'])\n",
        "#выводим результат\n",
        "sources_top.head(10)"
      ],
      "execution_count": null,
      "outputs": [
        {
          "output_type": "execute_result",
          "data": {
            "text/html": [
              "<div>\n",
              "<style scoped>\n",
              "    .dataframe tbody tr th:only-of-type {\n",
              "        vertical-align: middle;\n",
              "    }\n",
              "\n",
              "    .dataframe tbody tr th {\n",
              "        vertical-align: top;\n",
              "    }\n",
              "\n",
              "    .dataframe thead th {\n",
              "        text-align: right;\n",
              "    }\n",
              "</style>\n",
              "<table border=\"1\" class=\"dataframe\">\n",
              "  <thead>\n",
              "    <tr style=\"text-align: right;\">\n",
              "      <th></th>\n",
              "      <th>id</th>\n",
              "      <th>count</th>\n",
              "      <th>name</th>\n",
              "    </tr>\n",
              "  </thead>\n",
              "  <tbody>\n",
              "    <tr>\n",
              "      <th>0</th>\n",
              "      <td>1004393721</td>\n",
              "      <td>59</td>\n",
              "      <td>Интернет-аналитика</td>\n",
              "    </tr>\n",
              "    <tr>\n",
              "      <th>1</th>\n",
              "      <td>1294635786</td>\n",
              "      <td>51</td>\n",
              "      <td>Data Events</td>\n",
              "    </tr>\n",
              "    <tr>\n",
              "      <th>2</th>\n",
              "      <td>1490689117</td>\n",
              "      <td>48</td>\n",
              "      <td>Reveal the Data</td>\n",
              "    </tr>\n",
              "    <tr>\n",
              "      <th>3</th>\n",
              "      <td>1281187831</td>\n",
              "      <td>46</td>\n",
              "      <td>RTD: Ссылки и репосты</td>\n",
              "    </tr>\n",
              "    <tr>\n",
              "      <th>4</th>\n",
              "      <td>1453092978</td>\n",
              "      <td>42</td>\n",
              "      <td>Аналитика. Это просто</td>\n",
              "    </tr>\n",
              "    <tr>\n",
              "      <th>5</th>\n",
              "      <td>1119907458</td>\n",
              "      <td>35</td>\n",
              "      <td>Datalytics</td>\n",
              "    </tr>\n",
              "    <tr>\n",
              "      <th>6</th>\n",
              "      <td>1329188755</td>\n",
              "      <td>33</td>\n",
              "      <td>Инжиниринг Данных</td>\n",
              "    </tr>\n",
              "    <tr>\n",
              "      <th>7</th>\n",
              "      <td>1137067206</td>\n",
              "      <td>32</td>\n",
              "      <td>Epic Growth — рост продуктов  продакт-менеджме...</td>\n",
              "    </tr>\n",
              "    <tr>\n",
              "      <th>8</th>\n",
              "      <td>1407735984</td>\n",
              "      <td>28</td>\n",
              "      <td>LEFT JOIN</td>\n",
              "    </tr>\n",
              "    <tr>\n",
              "      <th>9</th>\n",
              "      <td>1334049717</td>\n",
              "      <td>28</td>\n",
              "      <td>Аналитика для всех желающих</td>\n",
              "    </tr>\n",
              "  </tbody>\n",
              "</table>\n",
              "</div>"
            ],
            "text/plain": [
              "           id  count                                               name\n",
              "0  1004393721     59                                 Интернет-аналитика\n",
              "1  1294635786     51                                        Data Events\n",
              "2  1490689117     48                                    Reveal the Data\n",
              "3  1281187831     46                              RTD: Ссылки и репосты\n",
              "4  1453092978     42                              Аналитика. Это просто\n",
              "5  1119907458     35                                         Datalytics\n",
              "6  1329188755     33                                  Инжиниринг Данных\n",
              "7  1137067206     32  Epic Growth — рост продуктов  продакт-менеджме...\n",
              "8  1407735984     28                                          LEFT JOIN\n",
              "9  1334049717     28                        Аналитика для всех желающих"
            ]
          },
          "metadata": {},
          "execution_count": 15
        }
      ]
    },
    {
      "cell_type": "markdown",
      "metadata": {
        "id": "WGLE49OkxDkB"
      },
      "source": [
        "Получим топ-10 каналов, на которые больше всего ссылаются."
      ]
    },
    {
      "cell_type": "code",
      "metadata": {
        "colab": {
          "base_uri": "https://localhost:8080/",
          "height": 359
        },
        "id": "KHjfVS6hJO6F",
        "outputId": "3bdef9c8-0c94-43e4-b2ed-a7b74d9a55a8"
      },
      "source": [
        "targets = edges[['target', 'count']].groupby('target', as_index=False).count()\n",
        "targets_top = targets.sort_values(by='count', ascending=False)\n",
        "targets_top.rename(columns={'target': 'id'}, inplace=True)\n",
        "targets_top=targets_top.merge(nodes, on=\"id\", how=\"left\")\n",
        "#убираем лишние колонки\n",
        "del(targets_top['link'])\n",
        "del(targets_top['description'])\n",
        "#выводим результат\n",
        "targets_top.head(10)"
      ],
      "execution_count": null,
      "outputs": [
        {
          "output_type": "execute_result",
          "data": {
            "text/html": [
              "<div>\n",
              "<style scoped>\n",
              "    .dataframe tbody tr th:only-of-type {\n",
              "        vertical-align: middle;\n",
              "    }\n",
              "\n",
              "    .dataframe tbody tr th {\n",
              "        vertical-align: top;\n",
              "    }\n",
              "\n",
              "    .dataframe thead th {\n",
              "        text-align: right;\n",
              "    }\n",
              "</style>\n",
              "<table border=\"1\" class=\"dataframe\">\n",
              "  <thead>\n",
              "    <tr style=\"text-align: right;\">\n",
              "      <th></th>\n",
              "      <th>id</th>\n",
              "      <th>count</th>\n",
              "      <th>name</th>\n",
              "    </tr>\n",
              "  </thead>\n",
              "  <tbody>\n",
              "    <tr>\n",
              "      <th>0</th>\n",
              "      <td>1329188755</td>\n",
              "      <td>44</td>\n",
              "      <td>Инжиниринг Данных</td>\n",
              "    </tr>\n",
              "    <tr>\n",
              "      <th>1</th>\n",
              "      <td>1490689117</td>\n",
              "      <td>40</td>\n",
              "      <td>Reveal the Data</td>\n",
              "    </tr>\n",
              "    <tr>\n",
              "      <th>2</th>\n",
              "      <td>1004393721</td>\n",
              "      <td>37</td>\n",
              "      <td>Интернет-аналитика</td>\n",
              "    </tr>\n",
              "    <tr>\n",
              "      <th>3</th>\n",
              "      <td>1109735806</td>\n",
              "      <td>31</td>\n",
              "      <td>Чартомойка</td>\n",
              "    </tr>\n",
              "    <tr>\n",
              "      <th>4</th>\n",
              "      <td>1117681513</td>\n",
              "      <td>26</td>\n",
              "      <td>Дата-сторителлинг</td>\n",
              "    </tr>\n",
              "    <tr>\n",
              "      <th>5</th>\n",
              "      <td>1407735984</td>\n",
              "      <td>26</td>\n",
              "      <td>LEFT JOIN</td>\n",
              "    </tr>\n",
              "    <tr>\n",
              "      <th>6</th>\n",
              "      <td>1181269908</td>\n",
              "      <td>24</td>\n",
              "      <td>Дашбордец</td>\n",
              "    </tr>\n",
              "    <tr>\n",
              "      <th>7</th>\n",
              "      <td>1387835436</td>\n",
              "      <td>22</td>\n",
              "      <td>настенька и графики</td>\n",
              "    </tr>\n",
              "    <tr>\n",
              "      <th>8</th>\n",
              "      <td>1392357804</td>\n",
              "      <td>21</td>\n",
              "      <td>BigQuery Insights</td>\n",
              "    </tr>\n",
              "    <tr>\n",
              "      <th>9</th>\n",
              "      <td>1119907458</td>\n",
              "      <td>21</td>\n",
              "      <td>Datalytics</td>\n",
              "    </tr>\n",
              "  </tbody>\n",
              "</table>\n",
              "</div>"
            ],
            "text/plain": [
              "           id  count                 name\n",
              "0  1329188755     44    Инжиниринг Данных\n",
              "1  1490689117     40      Reveal the Data\n",
              "2  1004393721     37   Интернет-аналитика\n",
              "3  1109735806     31           Чартомойка\n",
              "4  1117681513     26    Дата-сторителлинг\n",
              "5  1407735984     26            LEFT JOIN\n",
              "6  1181269908     24            Дашбордец\n",
              "7  1387835436     22  настенька и графики\n",
              "8  1392357804     21    BigQuery Insights\n",
              "9  1119907458     21           Datalytics"
            ]
          },
          "metadata": {},
          "execution_count": 16
        }
      ]
    },
    {
      "cell_type": "markdown",
      "metadata": {
        "id": "1IDsQIor0T20"
      },
      "source": [
        "Посмотрим ТОП10 каналов по числу любых связей (входящих и исходящих). Этот результат был ранее представлен в [материале про графы](https://leftjoin.ru/all/analytical-telegram-channels-graph/). "
      ]
    },
    {
      "cell_type": "code",
      "metadata": {
        "colab": {
          "base_uri": "https://localhost:8080/",
          "height": 359
        },
        "id": "AdlX-eDp0e2E",
        "outputId": "9cfd91f4-eb06-4570-c723-95f5e654d907"
      },
      "source": [
        "# переименовываем колонки для объединения\n",
        "q1 = sources_top.copy()\n",
        "q1.rename(columns={'count': 'count_out'}, inplace=True)\n",
        "q2 = targets_top.copy()\n",
        "q2.rename(columns={'count': 'count_in'}, inplace=True)\n",
        "\n",
        "# объединяем\n",
        "q1 = q1.merge(q2, on=['id', 'name'] , how=\"inner\")\n",
        "\n",
        "# считаем общее число связей\n",
        "q1['count_full'] = q1['count_out'] + q1['count_in']\n",
        "\n",
        "# выводим ТОП 10\n",
        "q1 = q1.sort_values(by='count_full', ascending=False)\n",
        "q1[['id','name', 'count_full']].head(10)\n"
      ],
      "execution_count": null,
      "outputs": [
        {
          "output_type": "execute_result",
          "data": {
            "text/html": [
              "<div>\n",
              "<style scoped>\n",
              "    .dataframe tbody tr th:only-of-type {\n",
              "        vertical-align: middle;\n",
              "    }\n",
              "\n",
              "    .dataframe tbody tr th {\n",
              "        vertical-align: top;\n",
              "    }\n",
              "\n",
              "    .dataframe thead th {\n",
              "        text-align: right;\n",
              "    }\n",
              "</style>\n",
              "<table border=\"1\" class=\"dataframe\">\n",
              "  <thead>\n",
              "    <tr style=\"text-align: right;\">\n",
              "      <th></th>\n",
              "      <th>id</th>\n",
              "      <th>name</th>\n",
              "      <th>count_full</th>\n",
              "    </tr>\n",
              "  </thead>\n",
              "  <tbody>\n",
              "    <tr>\n",
              "      <th>0</th>\n",
              "      <td>1004393721</td>\n",
              "      <td>Интернет-аналитика</td>\n",
              "      <td>96</td>\n",
              "    </tr>\n",
              "    <tr>\n",
              "      <th>2</th>\n",
              "      <td>1490689117</td>\n",
              "      <td>Reveal the Data</td>\n",
              "      <td>88</td>\n",
              "    </tr>\n",
              "    <tr>\n",
              "      <th>6</th>\n",
              "      <td>1329188755</td>\n",
              "      <td>Инжиниринг Данных</td>\n",
              "      <td>77</td>\n",
              "    </tr>\n",
              "    <tr>\n",
              "      <th>1</th>\n",
              "      <td>1294635786</td>\n",
              "      <td>Data Events</td>\n",
              "      <td>69</td>\n",
              "    </tr>\n",
              "    <tr>\n",
              "      <th>5</th>\n",
              "      <td>1119907458</td>\n",
              "      <td>Datalytics</td>\n",
              "      <td>56</td>\n",
              "    </tr>\n",
              "    <tr>\n",
              "      <th>14</th>\n",
              "      <td>1109735806</td>\n",
              "      <td>Чартомойка</td>\n",
              "      <td>55</td>\n",
              "    </tr>\n",
              "    <tr>\n",
              "      <th>8</th>\n",
              "      <td>1407735984</td>\n",
              "      <td>LEFT JOIN</td>\n",
              "      <td>54</td>\n",
              "    </tr>\n",
              "    <tr>\n",
              "      <th>3</th>\n",
              "      <td>1281187831</td>\n",
              "      <td>RTD: Ссылки и репосты</td>\n",
              "      <td>50</td>\n",
              "    </tr>\n",
              "    <tr>\n",
              "      <th>7</th>\n",
              "      <td>1137067206</td>\n",
              "      <td>Epic Growth — рост продуктов  продакт-менеджме...</td>\n",
              "      <td>50</td>\n",
              "    </tr>\n",
              "    <tr>\n",
              "      <th>12</th>\n",
              "      <td>1181269908</td>\n",
              "      <td>Дашбордец</td>\n",
              "      <td>49</td>\n",
              "    </tr>\n",
              "  </tbody>\n",
              "</table>\n",
              "</div>"
            ],
            "text/plain": [
              "            id                                               name  count_full\n",
              "0   1004393721                                 Интернет-аналитика          96\n",
              "2   1490689117                                    Reveal the Data          88\n",
              "6   1329188755                                  Инжиниринг Данных          77\n",
              "1   1294635786                                        Data Events          69\n",
              "5   1119907458                                         Datalytics          56\n",
              "14  1109735806                                         Чартомойка          55\n",
              "8   1407735984                                          LEFT JOIN          54\n",
              "3   1281187831                              RTD: Ссылки и репосты          50\n",
              "7   1137067206  Epic Growth — рост продуктов  продакт-менеджме...          50\n",
              "12  1181269908                                          Дашбордец          49"
            ]
          },
          "metadata": {},
          "execution_count": 17
        }
      ]
    },
    {
      "cell_type": "markdown",
      "metadata": {
        "id": "X7AMNzTlBmmz"
      },
      "source": [
        "## 2: Марковская цепь: немного теории"
      ]
    },
    {
      "cell_type": "markdown",
      "metadata": {
        "id": "iRTT5LomAZvh"
      },
      "source": [
        "Марковская цепь (Markov Chain) - последовательность случайных событий с конечным или счётным числом исходов, где вероятность наступления каждого события зависит только от состояния, достигнутого в предыдущем событии. Характеризуется тем свойством, что, говоря нестрого, при фиксированном настоящем будущее независимо от прошлого. \n",
        "\n",
        "Термин получил название по имени выдающегося русского математика А.А.Маркова (1856-1922), впервые начавшего изучение вероятностной связи случайных величин и создавшего теорию, которую можно назвать \"динамикой вероятностей\".\n",
        "\n",
        "Прежде чем дать описание общей схемы, обратимся к простому примеру. Предположим, что речь идет о последовательных бросаниях монеты при игре \"в орлянку \"; монета бросается в условные моменты времени _t = 0, 1, ..._ и на каждом шаге игрок может выиграть ±1 с одинаковой вероятностью 1/2, таким образом в момент t его суммарный выигрыш есть случайная величина _ξ(t)_ с возможными значениями _j = 0, ±1, ..._\n",
        "При условии, что _ξ(t) = k_, на следующем шаге выигрыш будет уже равен _ξ(t+1) = k ± 1_, принимая указанные значения _j = k ± 1_ c одинаковой вероятностью 1/2. Условно можно сказать, что здесь с соответствующей вероятностью происходит переход из состояния _ξ(t) = k_ в состояние _ξ(t+1) = k ± 1_.\n",
        "\n",
        "Обобщая этот пример, можно представить себе \"систему\" со счетным числом возможных \"фазовых\" состояний, которая с течением дискретного времени _t = 0, 1, ..._ случайно переходит из состояния в состояние.\n",
        "Пусть ξ(t) есть ее положение в момент t в результате цепочки случайных переходов\n",
        "\n",
        "$$ξ(0) - ξ(1) - ... - ξ(t) - ... (1)$$\n",
        "\n",
        "Формально обозначим все возможные состояния целыми _i = 0, ±1, ..._ Предположим, что при известном состоянии _ξ(t) = k_ на следующем шаге система переходит в состояние _ξ(t+1) = j_ с условной вероятностью\n",
        "\n",
        "$$P_{k, j} = P(ξ(t+1) = j|ξ(t) = k) ...(2)$$\n",
        "\n",
        "независимо от ее поведения в прошлом, точнее, независимо от цепочки переходов (1) до момента t:\n",
        "\n",
        "$$P(ξ(t+1) = j|ξ(0) = i, ..., ξ(t) = k) = P(ξ(t+1) = j|ξ(t) = k)(3)$$ \n",
        "\n",
        "при всех _t, k, j_ ... - марковское свойство.\n",
        "\n",
        "Такую вероятностную схему называют однородной цепью Маркова со счетным числом состояний - ее однородность состоит в том, что определенные в (2) переходные вероятности $P_{k, j}, \\sum_j P_{k, j} = 1$, k = 0, ±1, ..., не зависят от времени, т.е. _P(ξ(t+1) = j|ξ(t) = k) =_ $P_{i, j}$ - матрица вероятностей перехода за один шаг не зависит от n.\n",
        "\n",
        "Благодаря сравнительной простоте и наглядности математического аппарата, высокой достоверности и точности получаемых решений, особое внимание Марковские цепи приобрели у специалистов, занимающихся исследованием операций и теорией принятия оптимальных решений."
      ]
    },
    {
      "cell_type": "markdown",
      "metadata": {
        "deletable": false,
        "editable": false,
        "nbgrader": {
          "grade": false,
          "grade_id": "preprocess_intro",
          "locked": true,
          "schema_version": 1,
          "solution": false
        },
        "id": "N_F4hB838qcI"
      },
      "source": [
        "## 3: Вариант расчета вероятности перехода, при котором упоминание канала другим каналом равновероятно\n"
      ]
    },
    {
      "cell_type": "markdown",
      "metadata": {
        "deletable": false,
        "editable": false,
        "nbgrader": {
          "grade": false,
          "grade_id": "preprocess_outline_tasks",
          "locked": true,
          "schema_version": 1,
          "solution": false
        },
        "id": "Hplp5Y1r8qcJ"
      },
      "source": [
        "Для построения матрицы вероятностей перехода $P$ будем использовать возможности матриц из библиотеки SciPy.  \n",
        "\n",
        "Для построения матрицы нужно выполнить следующее:\n",
        "\n",
        "1. _Связать идентификаторы каналов с индексами матрицы._ `m`-к-`n` матрица в SciPy использует значения 0, 1, ..., `m`-1 и 0, ..., `n`-1 в индексах строк и столбцов.\n",
        "2. _Задать вероятности перехода или веса $p_{ij}$._ Рассмотрим вариант расчета вероятности перехода, при котором упоминание канала другим каналом равновероятно. "
      ]
    },
    {
      "cell_type": "markdown",
      "metadata": {
        "deletable": false,
        "editable": false,
        "nbgrader": {
          "grade": false,
          "grade_id": "preprocess_add_origin_id",
          "locked": true,
          "schema_version": 1,
          "solution": false
        },
        "id": "b7zZ7iSV8qcM"
      },
      "source": [
        "Добавляем новую колонку с id канала-источника"
      ]
    },
    {
      "cell_type": "code",
      "metadata": {
        "deletable": false,
        "editable": false,
        "nbgrader": {
          "grade": false,
          "grade_id": "origin_ids",
          "locked": true,
          "schema_version": 1,
          "solution": false
        },
        "colab": {
          "base_uri": "https://localhost:8080/",
          "height": 204
        },
        "id": "3hFTjsWp8qcO",
        "outputId": "5d69b3eb-8da3-4296-e319-8ad2f525e26d"
      },
      "source": [
        "source_indices = nodes[['id']].rename(columns={'id': 'source'})\n",
        "source_indices['source_index'] = nodes.index\n",
        "                               \n",
        "if 'source_index' in edges.columns:\n",
        "    del edges['source_index']\n",
        "    \n",
        "edges = edges.merge(source_indices, on='source', how='left')\n",
        "edges.head()"
      ],
      "execution_count": null,
      "outputs": [
        {
          "output_type": "execute_result",
          "data": {
            "text/html": [
              "<div>\n",
              "<style scoped>\n",
              "    .dataframe tbody tr th:only-of-type {\n",
              "        vertical-align: middle;\n",
              "    }\n",
              "\n",
              "    .dataframe tbody tr th {\n",
              "        vertical-align: top;\n",
              "    }\n",
              "\n",
              "    .dataframe thead th {\n",
              "        text-align: right;\n",
              "    }\n",
              "</style>\n",
              "<table border=\"1\" class=\"dataframe\">\n",
              "  <thead>\n",
              "    <tr style=\"text-align: right;\">\n",
              "      <th></th>\n",
              "      <th>source</th>\n",
              "      <th>target</th>\n",
              "      <th>count</th>\n",
              "      <th>source_index</th>\n",
              "    </tr>\n",
              "  </thead>\n",
              "  <tbody>\n",
              "    <tr>\n",
              "      <th>0</th>\n",
              "      <td>1004393721</td>\n",
              "      <td>1430200876</td>\n",
              "      <td>2</td>\n",
              "      <td>16</td>\n",
              "    </tr>\n",
              "    <tr>\n",
              "      <th>1</th>\n",
              "      <td>1004393721</td>\n",
              "      <td>1490689117</td>\n",
              "      <td>10</td>\n",
              "      <td>16</td>\n",
              "    </tr>\n",
              "    <tr>\n",
              "      <th>2</th>\n",
              "      <td>1004393721</td>\n",
              "      <td>1407735984</td>\n",
              "      <td>3</td>\n",
              "      <td>16</td>\n",
              "    </tr>\n",
              "    <tr>\n",
              "      <th>3</th>\n",
              "      <td>1004393721</td>\n",
              "      <td>1462487554</td>\n",
              "      <td>1</td>\n",
              "      <td>16</td>\n",
              "    </tr>\n",
              "    <tr>\n",
              "      <th>4</th>\n",
              "      <td>1004393721</td>\n",
              "      <td>1329188755</td>\n",
              "      <td>1</td>\n",
              "      <td>16</td>\n",
              "    </tr>\n",
              "  </tbody>\n",
              "</table>\n",
              "</div>"
            ],
            "text/plain": [
              "       source      target  count  source_index\n",
              "0  1004393721  1430200876      2            16\n",
              "1  1004393721  1490689117     10            16\n",
              "2  1004393721  1407735984      3            16\n",
              "3  1004393721  1462487554      1            16\n",
              "4  1004393721  1329188755      1            16"
            ]
          },
          "metadata": {},
          "execution_count": 72
        }
      ]
    },
    {
      "cell_type": "markdown",
      "metadata": {
        "deletable": false,
        "editable": false,
        "nbgrader": {
          "grade": false,
          "grade_id": "exercise_4",
          "locked": true,
          "schema_version": 1,
          "solution": false
        },
        "id": "r5VulUvT8qcP"
      },
      "source": [
        "Аналогично повторяем для id целевого канала"
      ]
    },
    {
      "cell_type": "code",
      "metadata": {
        "nbgrader": {
          "grade": false,
          "grade_id": "dest_id",
          "locked": false,
          "schema_version": 1,
          "solution": true
        },
        "colab": {
          "base_uri": "https://localhost:8080/",
          "height": 204
        },
        "id": "NWk8OC6B8qcQ",
        "outputId": "92c94463-fbbb-4495-87c6-6e7c16772e8b"
      },
      "source": [
        "dest_indices = nodes[['id']].rename(columns={'id': 'target'})\n",
        "dest_indices['target_index'] = nodes.index\n",
        "\n",
        "if 'target_index' in edges.columns:\n",
        "    del edges['target_index']\n",
        "    \n",
        "edges = edges.merge(dest_indices, on='target', how='left')\n",
        "edges.head()"
      ],
      "execution_count": null,
      "outputs": [
        {
          "output_type": "execute_result",
          "data": {
            "text/html": [
              "<div>\n",
              "<style scoped>\n",
              "    .dataframe tbody tr th:only-of-type {\n",
              "        vertical-align: middle;\n",
              "    }\n",
              "\n",
              "    .dataframe tbody tr th {\n",
              "        vertical-align: top;\n",
              "    }\n",
              "\n",
              "    .dataframe thead th {\n",
              "        text-align: right;\n",
              "    }\n",
              "</style>\n",
              "<table border=\"1\" class=\"dataframe\">\n",
              "  <thead>\n",
              "    <tr style=\"text-align: right;\">\n",
              "      <th></th>\n",
              "      <th>source</th>\n",
              "      <th>target</th>\n",
              "      <th>count</th>\n",
              "      <th>source_index</th>\n",
              "      <th>target_index</th>\n",
              "    </tr>\n",
              "  </thead>\n",
              "  <tbody>\n",
              "    <tr>\n",
              "      <th>0</th>\n",
              "      <td>1004393721</td>\n",
              "      <td>1430200876</td>\n",
              "      <td>2</td>\n",
              "      <td>16</td>\n",
              "      <td>9</td>\n",
              "    </tr>\n",
              "    <tr>\n",
              "      <th>1</th>\n",
              "      <td>1004393721</td>\n",
              "      <td>1490689117</td>\n",
              "      <td>10</td>\n",
              "      <td>16</td>\n",
              "      <td>4</td>\n",
              "    </tr>\n",
              "    <tr>\n",
              "      <th>2</th>\n",
              "      <td>1004393721</td>\n",
              "      <td>1407735984</td>\n",
              "      <td>3</td>\n",
              "      <td>16</td>\n",
              "      <td>0</td>\n",
              "    </tr>\n",
              "    <tr>\n",
              "      <th>3</th>\n",
              "      <td>1004393721</td>\n",
              "      <td>1462487554</td>\n",
              "      <td>1</td>\n",
              "      <td>16</td>\n",
              "      <td>5</td>\n",
              "    </tr>\n",
              "    <tr>\n",
              "      <th>4</th>\n",
              "      <td>1004393721</td>\n",
              "      <td>1329188755</td>\n",
              "      <td>1</td>\n",
              "      <td>16</td>\n",
              "      <td>2</td>\n",
              "    </tr>\n",
              "  </tbody>\n",
              "</table>\n",
              "</div>"
            ],
            "text/plain": [
              "       source      target  count  source_index  target_index\n",
              "0  1004393721  1430200876      2            16             9\n",
              "1  1004393721  1490689117     10            16             4\n",
              "2  1004393721  1407735984      3            16             0\n",
              "3  1004393721  1462487554      1            16             5\n",
              "4  1004393721  1329188755      1            16             2"
            ]
          },
          "metadata": {},
          "execution_count": 73
        }
      ]
    },
    {
      "cell_type": "markdown",
      "metadata": {
        "deletable": false,
        "editable": false,
        "nbgrader": {
          "grade": false,
          "grade_id": "exercise_5",
          "locked": true,
          "schema_version": 1,
          "solution": false
        },
        "id": "QlbDhnps8qcU"
      },
      "source": [
        "Добавим новый столбец `OUTDEGREE`, в котором будет хранится общее число каналов, упомянутых в каждом канале-источнике.  "
      ]
    },
    {
      "cell_type": "code",
      "metadata": {
        "nbgrader": {
          "grade": false,
          "grade_id": "weights",
          "locked": false,
          "schema_version": 1,
          "solution": true
        },
        "id": "43nm6Pq28qcV"
      },
      "source": [
        "if 'outdegree' in edges:\n",
        "    del edges['outdegree']\n",
        "\n",
        "degree = edges[['source','count']].groupby(by='source').count()\n",
        "degree.rename(columns={'count': 'outdegree'}, inplace=True)\n",
        "\n",
        "edges = edges.merge(degree, on='source', how='left')"
      ],
      "execution_count": null,
      "outputs": []
    },
    {
      "cell_type": "markdown",
      "metadata": {
        "deletable": false,
        "editable": false,
        "nbgrader": {
          "grade": false,
          "grade_id": "cell-ef03209a290ef1d1",
          "locked": true,
          "schema_version": 1,
          "solution": false
        },
        "id": "PgfMisdc8qcX"
      },
      "source": [
        "Сформируем столбец `WEIGHT`, который будет содержать значения вероятности перехода из канала-источника в целевой канал. Величину вероятности примем равной обратному значению от количества упомянутых каналов (считаем, что читатель может равновероятно перейти в один из упомянутых каналов)"
      ]
    },
    {
      "cell_type": "code",
      "metadata": {
        "deletable": false,
        "editable": false,
        "nbgrader": {
          "grade": false,
          "grade_id": "cell-03271168175f9c17",
          "locked": true,
          "schema_version": 1,
          "solution": false
        },
        "colab": {
          "base_uri": "https://localhost:8080/",
          "height": 204
        },
        "id": "PNrItVTA8qcY",
        "outputId": "1803b8bf-91d2-4ddf-cf62-8617a44f45eb"
      },
      "source": [
        "if 'weight' in edges:\n",
        "    del edges['weight']\n",
        "\n",
        "edges['weight'] = 1.0 / edges['outdegree']\n",
        "\n",
        "edges.head(5)"
      ],
      "execution_count": null,
      "outputs": [
        {
          "output_type": "execute_result",
          "data": {
            "text/html": [
              "<div>\n",
              "<style scoped>\n",
              "    .dataframe tbody tr th:only-of-type {\n",
              "        vertical-align: middle;\n",
              "    }\n",
              "\n",
              "    .dataframe tbody tr th {\n",
              "        vertical-align: top;\n",
              "    }\n",
              "\n",
              "    .dataframe thead th {\n",
              "        text-align: right;\n",
              "    }\n",
              "</style>\n",
              "<table border=\"1\" class=\"dataframe\">\n",
              "  <thead>\n",
              "    <tr style=\"text-align: right;\">\n",
              "      <th></th>\n",
              "      <th>source</th>\n",
              "      <th>target</th>\n",
              "      <th>count</th>\n",
              "      <th>source_index</th>\n",
              "      <th>target_index</th>\n",
              "      <th>outdegree</th>\n",
              "      <th>weight</th>\n",
              "    </tr>\n",
              "  </thead>\n",
              "  <tbody>\n",
              "    <tr>\n",
              "      <th>0</th>\n",
              "      <td>1004393721</td>\n",
              "      <td>1430200876</td>\n",
              "      <td>2</td>\n",
              "      <td>16</td>\n",
              "      <td>9</td>\n",
              "      <td>59</td>\n",
              "      <td>0.016949</td>\n",
              "    </tr>\n",
              "    <tr>\n",
              "      <th>1</th>\n",
              "      <td>1004393721</td>\n",
              "      <td>1490689117</td>\n",
              "      <td>10</td>\n",
              "      <td>16</td>\n",
              "      <td>4</td>\n",
              "      <td>59</td>\n",
              "      <td>0.016949</td>\n",
              "    </tr>\n",
              "    <tr>\n",
              "      <th>2</th>\n",
              "      <td>1004393721</td>\n",
              "      <td>1407735984</td>\n",
              "      <td>3</td>\n",
              "      <td>16</td>\n",
              "      <td>0</td>\n",
              "      <td>59</td>\n",
              "      <td>0.016949</td>\n",
              "    </tr>\n",
              "    <tr>\n",
              "      <th>3</th>\n",
              "      <td>1004393721</td>\n",
              "      <td>1462487554</td>\n",
              "      <td>1</td>\n",
              "      <td>16</td>\n",
              "      <td>5</td>\n",
              "      <td>59</td>\n",
              "      <td>0.016949</td>\n",
              "    </tr>\n",
              "    <tr>\n",
              "      <th>4</th>\n",
              "      <td>1004393721</td>\n",
              "      <td>1329188755</td>\n",
              "      <td>1</td>\n",
              "      <td>16</td>\n",
              "      <td>2</td>\n",
              "      <td>59</td>\n",
              "      <td>0.016949</td>\n",
              "    </tr>\n",
              "  </tbody>\n",
              "</table>\n",
              "</div>"
            ],
            "text/plain": [
              "       source      target  count  ...  target_index  outdegree    weight\n",
              "0  1004393721  1430200876      2  ...             9         59  0.016949\n",
              "1  1004393721  1490689117     10  ...             4         59  0.016949\n",
              "2  1004393721  1407735984      3  ...             0         59  0.016949\n",
              "3  1004393721  1462487554      1  ...             5         59  0.016949\n",
              "4  1004393721  1329188755      1  ...             2         59  0.016949\n",
              "\n",
              "[5 rows x 7 columns]"
            ]
          },
          "metadata": {},
          "execution_count": 75
        }
      ]
    },
    {
      "cell_type": "code",
      "metadata": {
        "nbgrader": {
          "grade": false,
          "grade_id": "P",
          "locked": false,
          "schema_version": 1,
          "solution": true
        },
        "colab": {
          "base_uri": "https://localhost:8080/",
          "height": 378
        },
        "id": "ngiOb0eC8qcg",
        "outputId": "77306cb6-564e-4508-cfe1-92561d7325bb"
      },
      "source": [
        "from scipy.sparse import coo_matrix\n",
        "\n",
        "def spy(A, figsize=(6, 6), markersize=0.5):\n",
        "    fig = plt.figure(figsize=figsize)\n",
        "    plt.spy(A, markersize=markersize)\n",
        "    plt.show()\n",
        "\n",
        "# размерность матрицы равна количеству каналов\n",
        "n_ids = nodes.index.max() + 1\n",
        "\n",
        "P = coo_matrix((edges['weight'], (edges['source_index'], edges['target_index'])), shape=(n_ids, n_ids))\n",
        "\n",
        "# визуализируем матрицу\n",
        "spy(P)"
      ],
      "execution_count": null,
      "outputs": [
        {
          "output_type": "display_data",
          "data": {
            "image/png": "[encoded data removed]",
            "text/plain": [
              "<Figure size 432x432 with 1 Axes>"
            ]
          },
          "metadata": {
            "needs_background": "light"
          }
        }
      ]
    },
    {
      "cell_type": "markdown",
      "metadata": {
        "deletable": false,
        "editable": false,
        "nbgrader": {
          "grade": false,
          "grade_id": "exercise_7",
          "locked": true,
          "schema_version": 1,
          "solution": false
        },
        "id": "WpSgCnMX8qcj"
      },
      "source": [
        "Задаем начальное состояние `x0` в момент времени $t=0$ "
      ]
    },
    {
      "cell_type": "code",
      "metadata": {
        "nbgrader": {
          "grade": false,
          "grade_id": "x0",
          "locked": false,
          "schema_version": 1,
          "solution": true
        },
        "id": "5LEDI5-l8qck"
      },
      "source": [
        "x0 = np.zeros(n_ids)\n",
        "x0[np.unique(edges['source_index'])]=1/len(np.unique(edges['source_index']))"
      ],
      "execution_count": null,
      "outputs": []
    },
    {
      "cell_type": "markdown",
      "metadata": {
        "deletable": false,
        "editable": false,
        "nbgrader": {
          "grade": false,
          "grade_id": "exercise_8",
          "locked": true,
          "schema_version": 1,
          "solution": false
        },
        "id": "aM5obaHQ8qcl"
      },
      "source": [
        "Используем матрицу переходов `P`, начальное состояние `x0`, и число переходов `t_max` в функции `eval_markov_chain(P, x0, t_max)` которая вычисляет и возвращает $x(t_{\\textrm{max}})$. \n",
        "Используя результат работы функции, выведем ТОП10 каналов с наибольшей вероятностью попадания в них после `t_max` переходов."
      ]
    },
    {
      "cell_type": "code",
      "metadata": {
        "nbgrader": {
          "grade": false,
          "grade_id": "eval_markov_chain",
          "locked": false,
          "schema_version": 1,
          "solution": true
        },
        "colab": {
          "base_uri": "https://localhost:8080/",
          "height": 359
        },
        "id": "qhCGnn8s8qco",
        "outputId": "7f3ad5b6-0759-4180-92ba-03afa4b69a06"
      },
      "source": [
        "def eval_markov_chain(P, x0, t_max):\n",
        "    x = x0\n",
        "    for _ in range(t_max):\n",
        "        x = P.transpose()@x    \n",
        "    return x\n",
        "    \n",
        "T_MAX = 50\n",
        "x = eval_markov_chain(P, x0, T_MAX)\n",
        "\n",
        "ranks = np.argsort(-x)\n",
        "top10 = pd.DataFrame({'Rank': np.arange(1, 11),\n",
        "                      'id': nodes.iloc[ranks[:10]]['id'],\n",
        "                      'name': nodes.iloc[ranks[:10]]['name'],\n",
        "                      'link': nodes.iloc[ranks[:10]]['link'],\n",
        "                      'description': nodes.iloc[ranks[:10]]['description'],\n",
        "                      'x(t)': x[ranks[:10]]})\n",
        "top10[['x(t)', 'Rank', 'id', 'name', 'link', 'description']]"
      ],
      "execution_count": null,
      "outputs": [
        {
          "output_type": "execute_result",
          "data": {
            "text/html": [
              "<div>\n",
              "<style scoped>\n",
              "    .dataframe tbody tr th:only-of-type {\n",
              "        vertical-align: middle;\n",
              "    }\n",
              "\n",
              "    .dataframe tbody tr th {\n",
              "        vertical-align: top;\n",
              "    }\n",
              "\n",
              "    .dataframe thead th {\n",
              "        text-align: right;\n",
              "    }\n",
              "</style>\n",
              "<table border=\"1\" class=\"dataframe\">\n",
              "  <thead>\n",
              "    <tr style=\"text-align: right;\">\n",
              "      <th></th>\n",
              "      <th>x(t)</th>\n",
              "      <th>Rank</th>\n",
              "      <th>id</th>\n",
              "      <th>name</th>\n",
              "      <th>link</th>\n",
              "      <th>description</th>\n",
              "    </tr>\n",
              "  </thead>\n",
              "  <tbody>\n",
              "    <tr>\n",
              "      <th>57</th>\n",
              "      <td>0.034074</td>\n",
              "      <td>1</td>\n",
              "      <td>1214065144</td>\n",
              "      <td>Мастерская</td>\n",
              "      <td>https://t.me/istories_workshop</td>\n",
              "      <td>Журналисты «Важных историй» / @istories_media ...</td>\n",
              "    </tr>\n",
              "    <tr>\n",
              "      <th>59</th>\n",
              "      <td>0.033505</td>\n",
              "      <td>2</td>\n",
              "      <td>1410975257</td>\n",
              "      <td>Как мы считали</td>\n",
              "      <td>https://t.me/new_data</td>\n",
              "      <td>дата-отдел «Новой газеты» (@novaya_pishet) свя...</td>\n",
              "    </tr>\n",
              "    <tr>\n",
              "      <th>97</th>\n",
              "      <td>0.012063</td>\n",
              "      <td>3</td>\n",
              "      <td>1269179134</td>\n",
              "      <td>Красивая аналитика</td>\n",
              "      <td>https://t.me/whrdata</td>\n",
              "      <td>канал про hr-данные для тех кто любит hr цифры...</td>\n",
              "    </tr>\n",
              "    <tr>\n",
              "      <th>63</th>\n",
              "      <td>0.011515</td>\n",
              "      <td>4</td>\n",
              "      <td>1192333141</td>\n",
              "      <td>People Analytics</td>\n",
              "      <td>https://t.me/People_Analytics</td>\n",
              "      <td>People analytics is a data-driven approach to ...</td>\n",
              "    </tr>\n",
              "    <tr>\n",
              "      <th>148</th>\n",
              "      <td>0.000064</td>\n",
              "      <td>5</td>\n",
              "      <td>1150855655</td>\n",
              "      <td>gonzo-обзоры ML статей</td>\n",
              "      <td>https://t.me/gonzo_ML</td>\n",
              "      <td>Авторы: Гриша Сапунов ранее руководитель разра...</td>\n",
              "    </tr>\n",
              "    <tr>\n",
              "      <th>70</th>\n",
              "      <td>0.000049</td>\n",
              "      <td>6</td>\n",
              "      <td>1208035359</td>\n",
              "      <td>Жалкие низкочастотники</td>\n",
              "      <td>https://t.me/pathetic_low_freq</td>\n",
              "      <td>Реклама не продаётся и не покупается&amp;#33; Это ...</td>\n",
              "    </tr>\n",
              "    <tr>\n",
              "      <th>141</th>\n",
              "      <td>0.000040</td>\n",
              "      <td>7</td>\n",
              "      <td>1342174620</td>\n",
              "      <td>Sberloga</td>\n",
              "      <td>https://t.me/sberloga</td>\n",
              "      <td>Майним данные 🤖 @sberlogadataclub ДС 🤓 @sberlo...</td>\n",
              "    </tr>\n",
              "    <tr>\n",
              "      <th>2</th>\n",
              "      <td>0.000027</td>\n",
              "      <td>8</td>\n",
              "      <td>1329188755</td>\n",
              "      <td>Инжиниринг Данных</td>\n",
              "      <td>https://t.me/rockyourdata</td>\n",
              "      <td>Канал для всех кто интересуется или работает с...</td>\n",
              "    </tr>\n",
              "    <tr>\n",
              "      <th>16</th>\n",
              "      <td>0.000025</td>\n",
              "      <td>9</td>\n",
              "      <td>1004393721</td>\n",
              "      <td>Интернет-аналитика</td>\n",
              "      <td>https://t.me/internetanalytics</td>\n",
              "      <td>18-19 ноября оффлайн-конференция аналитике Мат...</td>\n",
              "    </tr>\n",
              "    <tr>\n",
              "      <th>20</th>\n",
              "      <td>0.000025</td>\n",
              "      <td>10</td>\n",
              "      <td>1117681513</td>\n",
              "      <td>Дата-сторителлинг</td>\n",
              "      <td>https://t.me/data_publication</td>\n",
              "      <td>Дата-сторителлинг инструменты для работы с дан...</td>\n",
              "    </tr>\n",
              "  </tbody>\n",
              "</table>\n",
              "</div>"
            ],
            "text/plain": [
              "         x(t)  ...                                        description\n",
              "57   0.034074  ...  Журналисты «Важных историй» / @istories_media ...\n",
              "59   0.033505  ...  дата-отдел «Новой газеты» (@novaya_pishet) свя...\n",
              "97   0.012063  ...  канал про hr-данные для тех кто любит hr цифры...\n",
              "63   0.011515  ...  People analytics is a data-driven approach to ...\n",
              "148  0.000064  ...  Авторы: Гриша Сапунов ранее руководитель разра...\n",
              "70   0.000049  ...  Реклама не продаётся и не покупается&#33; Это ...\n",
              "141  0.000040  ...  Майним данные 🤖 @sberlogadataclub ДС 🤓 @sberlo...\n",
              "2    0.000027  ...  Канал для всех кто интересуется или работает с...\n",
              "16   0.000025  ...  18-19 ноября оффлайн-конференция аналитике Мат...\n",
              "20   0.000025  ...  Дата-сторителлинг инструменты для работы с дан...\n",
              "\n",
              "[10 rows x 6 columns]"
            ]
          },
          "metadata": {},
          "execution_count": 78
        }
      ]
    },
    {
      "cell_type": "markdown",
      "metadata": {
        "id": "EGeTls7hCX24"
      },
      "source": [
        "Сравним ТОП10 каналов с наибольшей вероятностью попадания в них и место (ранг) этих каналов в списке каналов, на которые больше всего ссылаются. "
      ]
    },
    {
      "cell_type": "code",
      "metadata": {
        "colab": {
          "base_uri": "https://localhost:8080/",
          "height": 359
        },
        "id": "RqLQO3jHCKac",
        "outputId": "51e625a7-5021-4027-f9f0-bd0132d8a088"
      },
      "source": [
        "top10_with_ranks = top10[['id', 'Rank', 'name']].copy()\n",
        "\n",
        "targets_top_with_ranks = targets_top[['id', 'name']].copy()\n",
        "targets_top_with_ranks['Rank'] = targets_top.index + 1\n",
        "targets_top_with_ranks = targets_top_with_ranks[['id', 'Rank']]\n",
        "\n",
        "top10_compare = top10_with_ranks.merge(targets_top_with_ranks, how='inner', on='id',\n",
        "                                       suffixes=['_from_top', '_from_targets_top'])\n",
        "top10_compare"
      ],
      "execution_count": null,
      "outputs": [
        {
          "output_type": "execute_result",
          "data": {
            "text/html": [
              "<div>\n",
              "<style scoped>\n",
              "    .dataframe tbody tr th:only-of-type {\n",
              "        vertical-align: middle;\n",
              "    }\n",
              "\n",
              "    .dataframe tbody tr th {\n",
              "        vertical-align: top;\n",
              "    }\n",
              "\n",
              "    .dataframe thead th {\n",
              "        text-align: right;\n",
              "    }\n",
              "</style>\n",
              "<table border=\"1\" class=\"dataframe\">\n",
              "  <thead>\n",
              "    <tr style=\"text-align: right;\">\n",
              "      <th></th>\n",
              "      <th>id</th>\n",
              "      <th>Rank_from_top</th>\n",
              "      <th>name</th>\n",
              "      <th>Rank_from_targets_top</th>\n",
              "    </tr>\n",
              "  </thead>\n",
              "  <tbody>\n",
              "    <tr>\n",
              "      <th>0</th>\n",
              "      <td>1214065144</td>\n",
              "      <td>1</td>\n",
              "      <td>Мастерская</td>\n",
              "      <td>110</td>\n",
              "    </tr>\n",
              "    <tr>\n",
              "      <th>1</th>\n",
              "      <td>1410975257</td>\n",
              "      <td>2</td>\n",
              "      <td>Как мы считали</td>\n",
              "      <td>115</td>\n",
              "    </tr>\n",
              "    <tr>\n",
              "      <th>2</th>\n",
              "      <td>1269179134</td>\n",
              "      <td>3</td>\n",
              "      <td>Красивая аналитика</td>\n",
              "      <td>160</td>\n",
              "    </tr>\n",
              "    <tr>\n",
              "      <th>3</th>\n",
              "      <td>1192333141</td>\n",
              "      <td>4</td>\n",
              "      <td>People Analytics</td>\n",
              "      <td>119</td>\n",
              "    </tr>\n",
              "    <tr>\n",
              "      <th>4</th>\n",
              "      <td>1150855655</td>\n",
              "      <td>5</td>\n",
              "      <td>gonzo-обзоры ML статей</td>\n",
              "      <td>74</td>\n",
              "    </tr>\n",
              "    <tr>\n",
              "      <th>5</th>\n",
              "      <td>1208035359</td>\n",
              "      <td>6</td>\n",
              "      <td>Жалкие низкочастотники</td>\n",
              "      <td>18</td>\n",
              "    </tr>\n",
              "    <tr>\n",
              "      <th>6</th>\n",
              "      <td>1342174620</td>\n",
              "      <td>7</td>\n",
              "      <td>Sberloga</td>\n",
              "      <td>68</td>\n",
              "    </tr>\n",
              "    <tr>\n",
              "      <th>7</th>\n",
              "      <td>1329188755</td>\n",
              "      <td>8</td>\n",
              "      <td>Инжиниринг Данных</td>\n",
              "      <td>1</td>\n",
              "    </tr>\n",
              "    <tr>\n",
              "      <th>8</th>\n",
              "      <td>1004393721</td>\n",
              "      <td>9</td>\n",
              "      <td>Интернет-аналитика</td>\n",
              "      <td>3</td>\n",
              "    </tr>\n",
              "    <tr>\n",
              "      <th>9</th>\n",
              "      <td>1117681513</td>\n",
              "      <td>10</td>\n",
              "      <td>Дата-сторителлинг</td>\n",
              "      <td>5</td>\n",
              "    </tr>\n",
              "  </tbody>\n",
              "</table>\n",
              "</div>"
            ],
            "text/plain": [
              "           id  Rank_from_top                    name  Rank_from_targets_top\n",
              "0  1214065144              1              Мастерская                    110\n",
              "1  1410975257              2          Как мы считали                    115\n",
              "2  1269179134              3      Красивая аналитика                    160\n",
              "3  1192333141              4        People Analytics                    119\n",
              "4  1150855655              5  gonzo-обзоры ML статей                     74\n",
              "5  1208035359              6  Жалкие низкочастотники                     18\n",
              "6  1342174620              7                Sberloga                     68\n",
              "7  1329188755              8       Инжиниринг Данных                      1\n",
              "8  1004393721              9      Интернет-аналитика                      3\n",
              "9  1117681513             10       Дата-сторителлинг                      5"
            ]
          },
          "metadata": {},
          "execution_count": 79
        }
      ]
    },
    {
      "cell_type": "markdown",
      "metadata": {
        "id": "n95xkI0FEt0a"
      },
      "source": [
        "## 4: Анализ полученных результатов"
      ]
    },
    {
      "cell_type": "markdown",
      "metadata": {
        "id": "WHTQZXHaA50V"
      },
      "source": [
        "Посмотрев на результат ТОП10 каналов, также можно заметить что-то странное: первые 4 места занимают каналы, значение вероятности попадания в которые в 400-500 раз превышает вероятность попадания в каналы, начиная с пятого места. Проанализируем эти каналы - проверим куда из них можно попасть и с какой вероятностью?\n"
      ]
    },
    {
      "cell_type": "code",
      "metadata": {
        "colab": {
          "base_uri": "https://localhost:8080/",
          "height": 173
        },
        "id": "63JryisiGab4",
        "outputId": "6462dc9d-d573-4791-bff7-66d26053e720"
      },
      "source": [
        "#отбираем нужные связи по ид каналов\n",
        "selected_edges = edges[(edges['source'] == 1214065144) | (edges['source'] == 1410975257) | (edges['source'] == 1269179134) | (edges['source'] == 1192333141)]\n",
        "#добавляем имя источника\n",
        "nodes_copy = nodes[['id', 'name']].copy()\n",
        "nodes_copy.rename(columns={'id': 'source', 'name': 'source_name'}, inplace=True)\n",
        "selected_edges = selected_edges.merge(nodes_copy, on=\"source\", how=\"inner\")\n",
        "# добавляем имя цели\n",
        "nodes_copy.rename(columns={'source': 'target', 'source_name': 'target_name'}, inplace=True)\n",
        "selected_edges = selected_edges.merge(nodes_copy, on=\"target\", how=\"inner\")\n",
        "\n",
        "selected_edges\n"
      ],
      "execution_count": null,
      "outputs": [
        {
          "output_type": "execute_result",
          "data": {
            "text/html": [
              "<div>\n",
              "<style scoped>\n",
              "    .dataframe tbody tr th:only-of-type {\n",
              "        vertical-align: middle;\n",
              "    }\n",
              "\n",
              "    .dataframe tbody tr th {\n",
              "        vertical-align: top;\n",
              "    }\n",
              "\n",
              "    .dataframe thead th {\n",
              "        text-align: right;\n",
              "    }\n",
              "</style>\n",
              "<table border=\"1\" class=\"dataframe\">\n",
              "  <thead>\n",
              "    <tr style=\"text-align: right;\">\n",
              "      <th></th>\n",
              "      <th>source</th>\n",
              "      <th>target</th>\n",
              "      <th>count</th>\n",
              "      <th>source_index</th>\n",
              "      <th>target_index</th>\n",
              "      <th>outdegree</th>\n",
              "      <th>weight</th>\n",
              "      <th>source_name</th>\n",
              "      <th>target_name</th>\n",
              "    </tr>\n",
              "  </thead>\n",
              "  <tbody>\n",
              "    <tr>\n",
              "      <th>0</th>\n",
              "      <td>1214065144</td>\n",
              "      <td>1410975257</td>\n",
              "      <td>4</td>\n",
              "      <td>57</td>\n",
              "      <td>59</td>\n",
              "      <td>1</td>\n",
              "      <td>1.0</td>\n",
              "      <td>Мастерская</td>\n",
              "      <td>Как мы считали</td>\n",
              "    </tr>\n",
              "    <tr>\n",
              "      <th>1</th>\n",
              "      <td>1410975257</td>\n",
              "      <td>1214065144</td>\n",
              "      <td>1</td>\n",
              "      <td>59</td>\n",
              "      <td>57</td>\n",
              "      <td>1</td>\n",
              "      <td>1.0</td>\n",
              "      <td>Как мы считали</td>\n",
              "      <td>Мастерская</td>\n",
              "    </tr>\n",
              "    <tr>\n",
              "      <th>2</th>\n",
              "      <td>1192333141</td>\n",
              "      <td>1269179134</td>\n",
              "      <td>2</td>\n",
              "      <td>63</td>\n",
              "      <td>97</td>\n",
              "      <td>1</td>\n",
              "      <td>1.0</td>\n",
              "      <td>People Analytics</td>\n",
              "      <td>Красивая аналитика</td>\n",
              "    </tr>\n",
              "    <tr>\n",
              "      <th>3</th>\n",
              "      <td>1269179134</td>\n",
              "      <td>1192333141</td>\n",
              "      <td>1</td>\n",
              "      <td>97</td>\n",
              "      <td>63</td>\n",
              "      <td>1</td>\n",
              "      <td>1.0</td>\n",
              "      <td>Красивая аналитика</td>\n",
              "      <td>People Analytics</td>\n",
              "    </tr>\n",
              "  </tbody>\n",
              "</table>\n",
              "</div>"
            ],
            "text/plain": [
              "       source      target  ...         source_name         target_name\n",
              "0  1214065144  1410975257  ...          Мастерская      Как мы считали\n",
              "1  1410975257  1214065144  ...      Как мы считали          Мастерская\n",
              "2  1192333141  1269179134  ...    People Analytics  Красивая аналитика\n",
              "3  1269179134  1192333141  ...  Красивая аналитика    People Analytics\n",
              "\n",
              "[4 rows x 9 columns]"
            ]
          },
          "metadata": {},
          "execution_count": 80
        }
      ]
    },
    {
      "cell_type": "markdown",
      "metadata": {
        "id": "rjZsul6rDmXi"
      },
      "source": [
        "Обратите внимание, что из каждого канала можно попасть только в один другой канал с вероятностью 1. Т.е. эти каналы ссылаются только на другой канал, и ни на кого больше. При этом на каждый канал из ТОП4 ссылается достаточно большое количество других каналов."
      ]
    },
    {
      "cell_type": "code",
      "metadata": {
        "colab": {
          "base_uri": "https://localhost:8080/",
          "height": 204
        },
        "id": "TZEhJS7DPRcf",
        "outputId": "42988e16-25b0-4797-e773-b07193f5eb5b"
      },
      "source": [
        "# посмотрим откуда можно попасть, например в канал Мастерская\n",
        "selected_edges = edges[edges['target'] == 1214065144]\n",
        "\n",
        "#добавляем имя источника\n",
        "nodes_copy = nodes[['id', 'name']].copy()\n",
        "nodes_copy.rename(columns={'id': 'source', 'name': 'source_name'}, inplace=True)\n",
        "selected_edges = selected_edges.merge(nodes_copy, on=\"source\", how=\"inner\")\n",
        "# добавляем имя цели\n",
        "nodes_copy.rename(columns={'source': 'target', 'source_name': 'target_name'}, inplace=True)\n",
        "selected_edges = selected_edges.merge(nodes_copy, on=\"target\", how=\"inner\")\n",
        "\n",
        "selected_edges"
      ],
      "execution_count": null,
      "outputs": [
        {
          "output_type": "execute_result",
          "data": {
            "text/html": [
              "<div>\n",
              "<style scoped>\n",
              "    .dataframe tbody tr th:only-of-type {\n",
              "        vertical-align: middle;\n",
              "    }\n",
              "\n",
              "    .dataframe tbody tr th {\n",
              "        vertical-align: top;\n",
              "    }\n",
              "\n",
              "    .dataframe thead th {\n",
              "        text-align: right;\n",
              "    }\n",
              "</style>\n",
              "<table border=\"1\" class=\"dataframe\">\n",
              "  <thead>\n",
              "    <tr style=\"text-align: right;\">\n",
              "      <th></th>\n",
              "      <th>source</th>\n",
              "      <th>target</th>\n",
              "      <th>count</th>\n",
              "      <th>source_index</th>\n",
              "      <th>target_index</th>\n",
              "      <th>outdegree</th>\n",
              "      <th>weight</th>\n",
              "      <th>source_name</th>\n",
              "      <th>target_name</th>\n",
              "    </tr>\n",
              "  </thead>\n",
              "  <tbody>\n",
              "    <tr>\n",
              "      <th>0</th>\n",
              "      <td>1195518065</td>\n",
              "      <td>1214065144</td>\n",
              "      <td>3</td>\n",
              "      <td>3</td>\n",
              "      <td>57</td>\n",
              "      <td>6</td>\n",
              "      <td>0.166667</td>\n",
              "      <td>data.csv</td>\n",
              "      <td>Мастерская</td>\n",
              "    </tr>\n",
              "    <tr>\n",
              "      <th>1</th>\n",
              "      <td>1117681513</td>\n",
              "      <td>1214065144</td>\n",
              "      <td>1</td>\n",
              "      <td>20</td>\n",
              "      <td>57</td>\n",
              "      <td>15</td>\n",
              "      <td>0.066667</td>\n",
              "      <td>Дата-сторителлинг</td>\n",
              "      <td>Мастерская</td>\n",
              "    </tr>\n",
              "    <tr>\n",
              "      <th>2</th>\n",
              "      <td>1213014683</td>\n",
              "      <td>1214065144</td>\n",
              "      <td>1</td>\n",
              "      <td>26</td>\n",
              "      <td>57</td>\n",
              "      <td>24</td>\n",
              "      <td>0.041667</td>\n",
              "      <td>🗞 Виз Ньюз</td>\n",
              "      <td>Мастерская</td>\n",
              "    </tr>\n",
              "    <tr>\n",
              "      <th>3</th>\n",
              "      <td>1281187831</td>\n",
              "      <td>1214065144</td>\n",
              "      <td>1</td>\n",
              "      <td>31</td>\n",
              "      <td>57</td>\n",
              "      <td>46</td>\n",
              "      <td>0.021739</td>\n",
              "      <td>RTD: Ссылки и репосты</td>\n",
              "      <td>Мастерская</td>\n",
              "    </tr>\n",
              "    <tr>\n",
              "      <th>4</th>\n",
              "      <td>1410975257</td>\n",
              "      <td>1214065144</td>\n",
              "      <td>1</td>\n",
              "      <td>59</td>\n",
              "      <td>57</td>\n",
              "      <td>1</td>\n",
              "      <td>1.000000</td>\n",
              "      <td>Как мы считали</td>\n",
              "      <td>Мастерская</td>\n",
              "    </tr>\n",
              "  </tbody>\n",
              "</table>\n",
              "</div>"
            ],
            "text/plain": [
              "       source      target  count  ...    weight            source_name  target_name\n",
              "0  1195518065  1214065144      3  ...  0.166667               data.csv   Мастерская\n",
              "1  1117681513  1214065144      1  ...  0.066667      Дата-сторителлинг   Мастерская\n",
              "2  1213014683  1214065144      1  ...  0.041667             🗞 Виз Ньюз   Мастерская\n",
              "3  1281187831  1214065144      1  ...  0.021739  RTD: Ссылки и репосты   Мастерская\n",
              "4  1410975257  1214065144      1  ...  1.000000         Как мы считали   Мастерская\n",
              "\n",
              "[5 rows x 9 columns]"
            ]
          },
          "metadata": {},
          "execution_count": 81
        }
      ]
    },
    {
      "cell_type": "code",
      "metadata": {
        "colab": {
          "base_uri": "https://localhost:8080/",
          "height": 173
        },
        "id": "m7XMmP2VH51j",
        "outputId": "dcb6e846-6956-4062-b3d3-74eb974ddf6a"
      },
      "source": [
        "#считаем, а сколько вообще таких петель (откуда можно попасть только откуда пришел с вероятностью 1)\n",
        "edges1 = edges.query('weight == 1')[['source', 'target']]\n",
        "edges2 = edges.query('weight == 1')[['target', 'source']]\n",
        "edges2.rename(columns={'target': 'source', 'source': 'target'}, inplace=True)\n",
        "selected_edges = edges1.merge(edges2, on=['source', 'target'], how='inner')\n",
        "\n",
        "#добавляем имя источника\n",
        "nodes_copy = nodes[['id', 'name']].copy()\n",
        "nodes_copy.rename(columns={'id': 'source', 'name': 'source_name'}, inplace=True)\n",
        "selected_edges = selected_edges.merge(nodes_copy, on=\"source\", how=\"inner\")\n",
        "# добавляем имя цели\n",
        "nodes_copy.rename(columns={'source': 'target', 'source_name': 'target_name'}, inplace=True)\n",
        "selected_edges = selected_edges.merge(nodes_copy, on=\"target\", how=\"inner\")\n",
        "\n",
        "selected_edges\n",
        "#итого таких петель две - \"Мастерская - Как мы считали\" и \"People Analytics - Красивая аналитика\""
      ],
      "execution_count": null,
      "outputs": [
        {
          "output_type": "execute_result",
          "data": {
            "text/html": [
              "<div>\n",
              "<style scoped>\n",
              "    .dataframe tbody tr th:only-of-type {\n",
              "        vertical-align: middle;\n",
              "    }\n",
              "\n",
              "    .dataframe tbody tr th {\n",
              "        vertical-align: top;\n",
              "    }\n",
              "\n",
              "    .dataframe thead th {\n",
              "        text-align: right;\n",
              "    }\n",
              "</style>\n",
              "<table border=\"1\" class=\"dataframe\">\n",
              "  <thead>\n",
              "    <tr style=\"text-align: right;\">\n",
              "      <th></th>\n",
              "      <th>source</th>\n",
              "      <th>target</th>\n",
              "      <th>source_name</th>\n",
              "      <th>target_name</th>\n",
              "    </tr>\n",
              "  </thead>\n",
              "  <tbody>\n",
              "    <tr>\n",
              "      <th>0</th>\n",
              "      <td>1214065144</td>\n",
              "      <td>1410975257</td>\n",
              "      <td>Мастерская</td>\n",
              "      <td>Как мы считали</td>\n",
              "    </tr>\n",
              "    <tr>\n",
              "      <th>1</th>\n",
              "      <td>1410975257</td>\n",
              "      <td>1214065144</td>\n",
              "      <td>Как мы считали</td>\n",
              "      <td>Мастерская</td>\n",
              "    </tr>\n",
              "    <tr>\n",
              "      <th>2</th>\n",
              "      <td>1192333141</td>\n",
              "      <td>1269179134</td>\n",
              "      <td>People Analytics</td>\n",
              "      <td>Красивая аналитика</td>\n",
              "    </tr>\n",
              "    <tr>\n",
              "      <th>3</th>\n",
              "      <td>1269179134</td>\n",
              "      <td>1192333141</td>\n",
              "      <td>Красивая аналитика</td>\n",
              "      <td>People Analytics</td>\n",
              "    </tr>\n",
              "  </tbody>\n",
              "</table>\n",
              "</div>"
            ],
            "text/plain": [
              "       source      target         source_name         target_name\n",
              "0  1214065144  1410975257          Мастерская      Как мы считали\n",
              "1  1410975257  1214065144      Как мы считали          Мастерская\n",
              "2  1192333141  1269179134    People Analytics  Красивая аналитика\n",
              "3  1269179134  1192333141  Красивая аналитика    People Analytics"
            ]
          },
          "metadata": {},
          "execution_count": 82
        }
      ]
    },
    {
      "cell_type": "markdown",
      "metadata": {
        "id": "FruLtcKpE2zb"
      },
      "source": [
        "В связи с этим можно сделать предположение, что каналы с вероятностью перехода райной 1 искажают картину переходов между каналами и, соответственно, подлежат исключению."
      ]
    },
    {
      "cell_type": "markdown",
      "metadata": {
        "id": "EAwNMISYAU5G"
      },
      "source": [
        "## 5: Анализ после исключения каналов с вероятностью перехода равной единице"
      ]
    },
    {
      "cell_type": "code",
      "metadata": {
        "colab": {
          "base_uri": "https://localhost:8080/"
        },
        "id": "Vmxq9FvSVAvL",
        "outputId": "1e77459b-e7cc-4224-91aa-648a2e0a081f"
      },
      "source": [
        "# получаем все упоминания с вероятностью перехода равной 1\n",
        "d = edges.query('weight == 1')[['source', 'target', 'count']].to_dict()\n",
        "ex_edges = pd.DataFrame(d)\n",
        "\n",
        "# загружаем упоминания из исходного файла\n",
        "req = requests.get('https://docs.google.com/spreadsheets/d/e/2PACX-1vR5iptxPqQZXV6E5wSjd42bIzhTU9XV6sN-A9oc4P6mkKXb88nm9Fza5GmdQ8VF98yIGRNPJR4ktuHI/pub?output=csv')\n",
        "data = req.content\n",
        "all_edges = pd.read_csv(BytesIO(data))\n",
        "\n",
        "# исключаем упоминания с вероятносью перехода равной 1 \n",
        "filtered_edges = pd.concat([all_edges, ex_edges]).drop_duplicates(keep=False)\n",
        "filtered_edges.reset_index()\n",
        "filtered_edges.head()\n",
        "print(\"Число упоминаний после исключения искажений: {}\".format (len(filtered_edges)))"
      ],
      "execution_count": null,
      "outputs": [
        {
          "output_type": "stream",
          "name": "stdout",
          "text": [
            "Число упоминаний после исключения искажений: 1388\n"
          ]
        }
      ]
    },
    {
      "cell_type": "markdown",
      "metadata": {
        "id": "GodhB4KtHjzD"
      },
      "source": [
        "Получим топ10 каналов, на которые больше всего ссылаются после исключения искажений. "
      ]
    },
    {
      "cell_type": "code",
      "metadata": {
        "colab": {
          "base_uri": "https://localhost:8080/",
          "height": 359
        },
        "id": "bv9mBDxeHlL2",
        "outputId": "b35b9f3c-5b8a-4974-c1f0-6881ec073619"
      },
      "source": [
        "filtered_targets = filtered_edges[['target', 'count']].groupby('target', as_index=False).count()\n",
        "filtered_targets_top = filtered_targets.sort_values(by='count', ascending=False)\n",
        "filtered_targets_top.rename(columns={'target': 'id'}, inplace=True)\n",
        "filtered_targets_top=filtered_targets_top.merge(nodes, on=\"id\", how=\"left\")\n",
        "#убираем лишние колонки\n",
        "del(filtered_targets_top['link'])\n",
        "del(filtered_targets_top['description'])\n",
        "#выводим результат\n",
        "filtered_targets_top.head(10)"
      ],
      "execution_count": null,
      "outputs": [
        {
          "output_type": "execute_result",
          "data": {
            "text/html": [
              "<div>\n",
              "<style scoped>\n",
              "    .dataframe tbody tr th:only-of-type {\n",
              "        vertical-align: middle;\n",
              "    }\n",
              "\n",
              "    .dataframe tbody tr th {\n",
              "        vertical-align: top;\n",
              "    }\n",
              "\n",
              "    .dataframe thead th {\n",
              "        text-align: right;\n",
              "    }\n",
              "</style>\n",
              "<table border=\"1\" class=\"dataframe\">\n",
              "  <thead>\n",
              "    <tr style=\"text-align: right;\">\n",
              "      <th></th>\n",
              "      <th>id</th>\n",
              "      <th>count</th>\n",
              "      <th>name</th>\n",
              "    </tr>\n",
              "  </thead>\n",
              "  <tbody>\n",
              "    <tr>\n",
              "      <th>0</th>\n",
              "      <td>1329188755</td>\n",
              "      <td>40</td>\n",
              "      <td>Инжиниринг Данных</td>\n",
              "    </tr>\n",
              "    <tr>\n",
              "      <th>1</th>\n",
              "      <td>1490689117</td>\n",
              "      <td>38</td>\n",
              "      <td>Reveal the Data</td>\n",
              "    </tr>\n",
              "    <tr>\n",
              "      <th>2</th>\n",
              "      <td>1004393721</td>\n",
              "      <td>35</td>\n",
              "      <td>Интернет-аналитика</td>\n",
              "    </tr>\n",
              "    <tr>\n",
              "      <th>3</th>\n",
              "      <td>1109735806</td>\n",
              "      <td>31</td>\n",
              "      <td>Чартомойка</td>\n",
              "    </tr>\n",
              "    <tr>\n",
              "      <th>4</th>\n",
              "      <td>1407735984</td>\n",
              "      <td>26</td>\n",
              "      <td>LEFT JOIN</td>\n",
              "    </tr>\n",
              "    <tr>\n",
              "      <th>5</th>\n",
              "      <td>1181269908</td>\n",
              "      <td>24</td>\n",
              "      <td>Дашбордец</td>\n",
              "    </tr>\n",
              "    <tr>\n",
              "      <th>6</th>\n",
              "      <td>1117681513</td>\n",
              "      <td>24</td>\n",
              "      <td>Дата-сторителлинг</td>\n",
              "    </tr>\n",
              "    <tr>\n",
              "      <th>7</th>\n",
              "      <td>1119907458</td>\n",
              "      <td>21</td>\n",
              "      <td>Datalytics</td>\n",
              "    </tr>\n",
              "    <tr>\n",
              "      <th>8</th>\n",
              "      <td>1387835436</td>\n",
              "      <td>21</td>\n",
              "      <td>настенька и графики</td>\n",
              "    </tr>\n",
              "    <tr>\n",
              "      <th>9</th>\n",
              "      <td>1061769519</td>\n",
              "      <td>21</td>\n",
              "      <td>WebAnalytics</td>\n",
              "    </tr>\n",
              "  </tbody>\n",
              "</table>\n",
              "</div>"
            ],
            "text/plain": [
              "           id  count                 name\n",
              "0  1329188755     40    Инжиниринг Данных\n",
              "1  1490689117     38      Reveal the Data\n",
              "2  1004393721     35   Интернет-аналитика\n",
              "3  1109735806     31           Чартомойка\n",
              "4  1407735984     26            LEFT JOIN\n",
              "5  1181269908     24            Дашбордец\n",
              "6  1117681513     24    Дата-сторителлинг\n",
              "7  1119907458     21           Datalytics\n",
              "8  1387835436     21  настенька и графики\n",
              "9  1061769519     21         WebAnalytics"
            ]
          },
          "metadata": {},
          "execution_count": 90
        }
      ]
    },
    {
      "cell_type": "markdown",
      "metadata": {
        "id": "QlVSqyw0GX8W"
      },
      "source": [
        "Построим ТОП10 каналов с наибольшей вероятностью попадания в них аналогично вышеупомянутым шагам."
      ]
    },
    {
      "cell_type": "code",
      "metadata": {
        "colab": {
          "base_uri": "https://localhost:8080/",
          "height": 359
        },
        "id": "YHHHmqKZGiDb",
        "outputId": "363123b0-fb73-423f-c3fd-1cc4d039cc33"
      },
      "source": [
        "filtered_sources = filtered_edges[['source', 'count']].groupby('source', as_index=False).count()\n",
        "\n",
        "# определяем индексы для каналов\n",
        "if 'source_index' in filtered_edges.columns:\n",
        "    del filtered_edges['source_index']\n",
        "    \n",
        "filtered_edges = filtered_edges.merge(source_indices, on='source', how='left')\n",
        "\n",
        "if 'target_index' in filtered_edges.columns:\n",
        "    del filtered_edges['target_index']\n",
        "    \n",
        "filtered_edges = filtered_edges.merge(dest_indices, on='target', how='left')\n",
        "\n",
        "# добавляем количество исходящих связей\n",
        "if 'outdegree' in filtered_edges:\n",
        "    del filtered_edges['outdegree']\n",
        "\n",
        "filtered_edges_subset = filtered_edges[['source','count']]\n",
        "filtered_degree = filtered_edges_subset.groupby(by='source').count()\n",
        "filtered_degree.rename(columns={'count': 'outdegree'}, inplace=True)\n",
        "\n",
        "filtered_edges = filtered_edges.merge(filtered_degree, on='source', how='left')\n",
        "\n",
        "# добавляем расчет вероятности перехода\n",
        "if 'weight' in filtered_edges:\n",
        "    del filtered_edges['weight']\n",
        "\n",
        "filtered_edges['weight'] = 1.0 / filtered_edges['outdegree']\n",
        "\n",
        "# формируем матрицу вероятностей переходов\n",
        "filtered_P = coo_matrix((filtered_edges['weight'], (filtered_edges['source_index'], filtered_edges['target_index'])), shape=(n_ids, n_ids))\n",
        "\n",
        "# формируем вектор начальных состояний\n",
        "filtered_x0 = np.zeros(n_ids)\n",
        "filtered_x0[np.unique(filtered_edges['source_index'])]=1/len(np.unique(filtered_edges['source_index']))\n",
        "\n",
        "# определяем ТОП10 каналов с наибольшей вероятностью попадания в них\n",
        "T_MAX = 50\n",
        "filtered_x = eval_markov_chain(filtered_P, filtered_x0, T_MAX)\n",
        "\n",
        "filtered_ranks = np.argsort(-filtered_x)\n",
        "filtered_top10 = pd.DataFrame({'Rank': np.arange(1, 11),\n",
        "                      'id': nodes.iloc[filtered_ranks[:10]]['id'],\n",
        "                      'name': nodes.iloc[filtered_ranks[:10]]['name'],\n",
        "                      'link': nodes.iloc[filtered_ranks[:10]]['link'],\n",
        "                      'description': nodes.iloc[filtered_ranks[:10]]['description'],\n",
        "                      'x(t)': filtered_x[filtered_ranks[:10]]})\n",
        "filtered_top10[['x(t)', 'Rank', 'id', 'name', 'link', 'description']]"
      ],
      "execution_count": null,
      "outputs": [
        {
          "output_type": "execute_result",
          "data": {
            "text/html": [
              "<div>\n",
              "<style scoped>\n",
              "    .dataframe tbody tr th:only-of-type {\n",
              "        vertical-align: middle;\n",
              "    }\n",
              "\n",
              "    .dataframe tbody tr th {\n",
              "        vertical-align: top;\n",
              "    }\n",
              "\n",
              "    .dataframe thead th {\n",
              "        text-align: right;\n",
              "    }\n",
              "</style>\n",
              "<table border=\"1\" class=\"dataframe\">\n",
              "  <thead>\n",
              "    <tr style=\"text-align: right;\">\n",
              "      <th></th>\n",
              "      <th>x(t)</th>\n",
              "      <th>Rank</th>\n",
              "      <th>id</th>\n",
              "      <th>name</th>\n",
              "      <th>link</th>\n",
              "      <th>description</th>\n",
              "    </tr>\n",
              "  </thead>\n",
              "  <tbody>\n",
              "    <tr>\n",
              "      <th>19</th>\n",
              "      <td>3.404425e-08</td>\n",
              "      <td>1</td>\n",
              "      <td>1109735806</td>\n",
              "      <td>Чартомойка</td>\n",
              "      <td>https://t.me/chartomojka</td>\n",
              "      <td>О графиках: плохих хороших и других. От восхищ...</td>\n",
              "    </tr>\n",
              "    <tr>\n",
              "      <th>16</th>\n",
              "      <td>3.103759e-08</td>\n",
              "      <td>2</td>\n",
              "      <td>1004393721</td>\n",
              "      <td>Интернет-аналитика</td>\n",
              "      <td>https://t.me/internetanalytics</td>\n",
              "      <td>18-19 ноября оффлайн-конференция аналитике Мат...</td>\n",
              "    </tr>\n",
              "    <tr>\n",
              "      <th>4</th>\n",
              "      <td>2.857008e-08</td>\n",
              "      <td>3</td>\n",
              "      <td>1490689117</td>\n",
              "      <td>Reveal the Data</td>\n",
              "      <td>https://t.me/revealthedata</td>\n",
              "      <td>Канал Ромы Бунина про визуализацию данных разв...</td>\n",
              "    </tr>\n",
              "    <tr>\n",
              "      <th>2</th>\n",
              "      <td>2.539491e-08</td>\n",
              "      <td>4</td>\n",
              "      <td>1329188755</td>\n",
              "      <td>Инжиниринг Данных</td>\n",
              "      <td>https://t.me/rockyourdata</td>\n",
              "      <td>Канал для всех кто интересуется или работает с...</td>\n",
              "    </tr>\n",
              "    <tr>\n",
              "      <th>7</th>\n",
              "      <td>2.351869e-08</td>\n",
              "      <td>5</td>\n",
              "      <td>1061769519</td>\n",
              "      <td>WebAnalytics</td>\n",
              "      <td>https://t.me/webanalyst</td>\n",
              "      <td>Меня зовут Дмитрий Осиюк (@iosiuk) я аналитик ...</td>\n",
              "    </tr>\n",
              "    <tr>\n",
              "      <th>11</th>\n",
              "      <td>2.255747e-08</td>\n",
              "      <td>6</td>\n",
              "      <td>1392357804</td>\n",
              "      <td>BigQuery Insights</td>\n",
              "      <td>https://t.me/BigQuery</td>\n",
              "      <td>Аналитика в Google BigQuery инсайты примеры SQ...</td>\n",
              "    </tr>\n",
              "    <tr>\n",
              "      <th>20</th>\n",
              "      <td>2.210718e-08</td>\n",
              "      <td>7</td>\n",
              "      <td>1117681513</td>\n",
              "      <td>Дата-сторителлинг</td>\n",
              "      <td>https://t.me/data_publication</td>\n",
              "      <td>Дата-сторителлинг инструменты для работы с дан...</td>\n",
              "    </tr>\n",
              "    <tr>\n",
              "      <th>0</th>\n",
              "      <td>2.112924e-08</td>\n",
              "      <td>8</td>\n",
              "      <td>1407735984</td>\n",
              "      <td>LEFT JOIN</td>\n",
              "      <td>https://t.me/leftjoin</td>\n",
              "      <td>Make data work. Канал об аналитике блога leftj...</td>\n",
              "    </tr>\n",
              "    <tr>\n",
              "      <th>68</th>\n",
              "      <td>2.009116e-08</td>\n",
              "      <td>9</td>\n",
              "      <td>1014119500</td>\n",
              "      <td>Рациональные числа</td>\n",
              "      <td>https://t.me/rationalnumbers</td>\n",
              "      <td>Статистика и данные из разных областей. Миниму...</td>\n",
              "    </tr>\n",
              "    <tr>\n",
              "      <th>134</th>\n",
              "      <td>1.968903e-08</td>\n",
              "      <td>10</td>\n",
              "      <td>1365701162</td>\n",
              "      <td>Maps&amp;Data</td>\n",
              "      <td>https://t.me/mapsanddata</td>\n",
              "      <td>🗺 Карты. Инфографика. Статистика. ▪️Чат канала...</td>\n",
              "    </tr>\n",
              "  </tbody>\n",
              "</table>\n",
              "</div>"
            ],
            "text/plain": [
              "             x(t)  ...                                        description\n",
              "19   3.404425e-08  ...  О графиках: плохих хороших и других. От восхищ...\n",
              "16   3.103759e-08  ...  18-19 ноября оффлайн-конференция аналитике Мат...\n",
              "4    2.857008e-08  ...  Канал Ромы Бунина про визуализацию данных разв...\n",
              "2    2.539491e-08  ...  Канал для всех кто интересуется или работает с...\n",
              "7    2.351869e-08  ...  Меня зовут Дмитрий Осиюк (@iosiuk) я аналитик ...\n",
              "11   2.255747e-08  ...  Аналитика в Google BigQuery инсайты примеры SQ...\n",
              "20   2.210718e-08  ...  Дата-сторителлинг инструменты для работы с дан...\n",
              "0    2.112924e-08  ...  Make data work. Канал об аналитике блога leftj...\n",
              "68   2.009116e-08  ...  Статистика и данные из разных областей. Миниму...\n",
              "134  1.968903e-08  ...  🗺 Карты. Инфографика. Статистика. ▪️Чат канала...\n",
              "\n",
              "[10 rows x 6 columns]"
            ]
          },
          "metadata": {},
          "execution_count": 84
        }
      ]
    },
    {
      "cell_type": "markdown",
      "metadata": {
        "id": "hx5AIUB_TyUo"
      },
      "source": [
        "Сравним ТОП10 каналов с наибольшей вероятностью попадания в них и место (ранг) этих каналов в списке каналов, на которые больше всего ссылаются. Теперь списки каналов совпадают гораздо больше. \n",
        "\n",
        "Многие из ТОП10 каналов с наибольшей вероятностью попадания являются каналами, на которые больше всего ссылаются."
      ]
    },
    {
      "cell_type": "code",
      "metadata": {
        "colab": {
          "base_uri": "https://localhost:8080/",
          "height": 359
        },
        "id": "QB9aUD4ALrqe",
        "outputId": "453cc607-e880-458b-aee0-152e58217238"
      },
      "source": [
        "filtered_top10_with_ranks = filtered_top10[['id', 'Rank', 'name']].copy()\n",
        "\n",
        "filtered_targets_top_with_ranks = filtered_targets_top[['id', 'name']].copy()\n",
        "filtered_targets_top_with_ranks['Rank'] = filtered_targets_top.index + 1\n",
        "filtered_targets_top_with_ranks = filtered_targets_top_with_ranks[['id', 'Rank']]\n",
        "\n",
        "filtered_top10_compare = filtered_top10_with_ranks.merge(filtered_targets_top_with_ranks, how='inner', on='id',\n",
        "                                       suffixes=['_from_top', '_from_targets_top'])\n",
        "filtered_top10_compare"
      ],
      "execution_count": null,
      "outputs": [
        {
          "output_type": "execute_result",
          "data": {
            "text/html": [
              "<div>\n",
              "<style scoped>\n",
              "    .dataframe tbody tr th:only-of-type {\n",
              "        vertical-align: middle;\n",
              "    }\n",
              "\n",
              "    .dataframe tbody tr th {\n",
              "        vertical-align: top;\n",
              "    }\n",
              "\n",
              "    .dataframe thead th {\n",
              "        text-align: right;\n",
              "    }\n",
              "</style>\n",
              "<table border=\"1\" class=\"dataframe\">\n",
              "  <thead>\n",
              "    <tr style=\"text-align: right;\">\n",
              "      <th></th>\n",
              "      <th>id</th>\n",
              "      <th>Rank_from_top</th>\n",
              "      <th>name</th>\n",
              "      <th>Rank_from_targets_top</th>\n",
              "    </tr>\n",
              "  </thead>\n",
              "  <tbody>\n",
              "    <tr>\n",
              "      <th>0</th>\n",
              "      <td>1109735806</td>\n",
              "      <td>1</td>\n",
              "      <td>Чартомойка</td>\n",
              "      <td>4</td>\n",
              "    </tr>\n",
              "    <tr>\n",
              "      <th>1</th>\n",
              "      <td>1004393721</td>\n",
              "      <td>2</td>\n",
              "      <td>Интернет-аналитика</td>\n",
              "      <td>3</td>\n",
              "    </tr>\n",
              "    <tr>\n",
              "      <th>2</th>\n",
              "      <td>1490689117</td>\n",
              "      <td>3</td>\n",
              "      <td>Reveal the Data</td>\n",
              "      <td>2</td>\n",
              "    </tr>\n",
              "    <tr>\n",
              "      <th>3</th>\n",
              "      <td>1329188755</td>\n",
              "      <td>4</td>\n",
              "      <td>Инжиниринг Данных</td>\n",
              "      <td>1</td>\n",
              "    </tr>\n",
              "    <tr>\n",
              "      <th>4</th>\n",
              "      <td>1061769519</td>\n",
              "      <td>5</td>\n",
              "      <td>WebAnalytics</td>\n",
              "      <td>10</td>\n",
              "    </tr>\n",
              "    <tr>\n",
              "      <th>5</th>\n",
              "      <td>1392357804</td>\n",
              "      <td>6</td>\n",
              "      <td>BigQuery Insights</td>\n",
              "      <td>12</td>\n",
              "    </tr>\n",
              "    <tr>\n",
              "      <th>6</th>\n",
              "      <td>1117681513</td>\n",
              "      <td>7</td>\n",
              "      <td>Дата-сторителлинг</td>\n",
              "      <td>7</td>\n",
              "    </tr>\n",
              "    <tr>\n",
              "      <th>7</th>\n",
              "      <td>1407735984</td>\n",
              "      <td>8</td>\n",
              "      <td>LEFT JOIN</td>\n",
              "      <td>5</td>\n",
              "    </tr>\n",
              "    <tr>\n",
              "      <th>8</th>\n",
              "      <td>1014119500</td>\n",
              "      <td>9</td>\n",
              "      <td>Рациональные числа</td>\n",
              "      <td>23</td>\n",
              "    </tr>\n",
              "    <tr>\n",
              "      <th>9</th>\n",
              "      <td>1365701162</td>\n",
              "      <td>10</td>\n",
              "      <td>Maps&amp;Data</td>\n",
              "      <td>26</td>\n",
              "    </tr>\n",
              "  </tbody>\n",
              "</table>\n",
              "</div>"
            ],
            "text/plain": [
              "           id  Rank_from_top                name  Rank_from_targets_top\n",
              "0  1109735806              1          Чартомойка                      4\n",
              "1  1004393721              2  Интернет-аналитика                      3\n",
              "2  1490689117              3     Reveal the Data                      2\n",
              "3  1329188755              4   Инжиниринг Данных                      1\n",
              "4  1061769519              5        WebAnalytics                     10\n",
              "5  1392357804              6   BigQuery Insights                     12\n",
              "6  1117681513              7   Дата-сторителлинг                      7\n",
              "7  1407735984              8           LEFT JOIN                      5\n",
              "8  1014119500              9  Рациональные числа                     23\n",
              "9  1365701162             10           Maps&Data                     26"
            ]
          },
          "metadata": {},
          "execution_count": 91
        }
      ]
    },
    {
      "cell_type": "markdown",
      "metadata": {
        "id": "RFdtRcYBBSlo"
      },
      "source": [
        "## 6: Вариант расчета вероятности перехода в зависимости от числа упоминаний канала"
      ]
    },
    {
      "cell_type": "markdown",
      "metadata": {
        "id": "Fqhj7-_UMNWI"
      },
      "source": [
        "Попробуем изменить расчет величины вероятности перехода. Напомним, что выше мы считали вероятность как величину обратную количеству упомянутых каналов. И считали в этом случае равновероятность перехода. Но, фактически, у нас разные каналы упомянуты с разной частотой. Давайте учтем в расчетах количество упоминаний канала и посчитаем вероятность как отношение количества упоминаний целевого канала к общему количеству упоминаний всех целевых каналов в канале-источнике."
      ]
    },
    {
      "cell_type": "code",
      "metadata": {
        "id": "JyrQ6H0qM6eQ"
      },
      "source": [
        "# удаляем созданные ранее столбцы в случае многократного запуска ячейки\n",
        "if 'full_count' in filtered_edges:\n",
        "    del filtered_edges['full_count']\n",
        "\n",
        "if 'weight2' in filtered_edges:\n",
        "    del filtered_edges['weight2']\n",
        "\n",
        "# считаем значение вероятности перехода как отношения числа упоминаний канала к общему числу упоминаний \n",
        "filtered_edges_subs = filtered_edges[['source','count']].groupby('source').sum()\n",
        "filtered_edges_subs.rename(columns={'count': 'full_count'}, inplace=True)\n",
        "\n",
        "filtered_edges=filtered_edges.merge(filtered_edges_subs, on='source', how='left')\n",
        "\n",
        "filtered_edges['weight2'] = filtered_edges['count'] / filtered_edges['full_count']"
      ],
      "execution_count": null,
      "outputs": []
    },
    {
      "cell_type": "markdown",
      "metadata": {
        "id": "MvABicImEGF0"
      },
      "source": [
        "Построим ТОП10 каналов с наибольшей вероятностью попадания в них аналогично вышеупомянутым шагам."
      ]
    },
    {
      "cell_type": "code",
      "metadata": {
        "colab": {
          "base_uri": "https://localhost:8080/",
          "height": 359
        },
        "id": "TK7O9DRQNwKk",
        "outputId": "50516500-7bca-4db4-ad4d-6d220798fb84"
      },
      "source": [
        "P2 = coo_matrix((filtered_edges['weight2'], (filtered_edges['source_index'], filtered_edges['target_index'])), shape=(n_ids, n_ids))\n",
        "\n",
        "T_MAX = 50\n",
        "filtered_x2 = eval_markov_chain(P2, filtered_x0, T_MAX)\n",
        "\n",
        "filtered_ranks2 = np.argsort(-filtered_x2)\n",
        "filtered_top10_2 = pd.DataFrame({'Rank': np.arange(1, 11),\n",
        "                      'id': nodes.iloc[filtered_ranks2[:10]]['id'],\n",
        "                      'name': nodes.iloc[filtered_ranks2[:10]]['name'],\n",
        "                      'link': nodes.iloc[filtered_ranks2[:10]]['link'],\n",
        "                      'description': nodes.iloc[filtered_ranks2[:10]]['description'],\n",
        "                      'x(t)': filtered_x[filtered_ranks2[:10]]})\n",
        "filtered_top10_2[['x(t)', 'Rank', 'id', 'name', 'link', 'description']]"
      ],
      "execution_count": null,
      "outputs": [
        {
          "output_type": "execute_result",
          "data": {
            "text/html": [
              "<div>\n",
              "<style scoped>\n",
              "    .dataframe tbody tr th:only-of-type {\n",
              "        vertical-align: middle;\n",
              "    }\n",
              "\n",
              "    .dataframe tbody tr th {\n",
              "        vertical-align: top;\n",
              "    }\n",
              "\n",
              "    .dataframe thead th {\n",
              "        text-align: right;\n",
              "    }\n",
              "</style>\n",
              "<table border=\"1\" class=\"dataframe\">\n",
              "  <thead>\n",
              "    <tr style=\"text-align: right;\">\n",
              "      <th></th>\n",
              "      <th>x(t)</th>\n",
              "      <th>Rank</th>\n",
              "      <th>id</th>\n",
              "      <th>name</th>\n",
              "      <th>link</th>\n",
              "      <th>description</th>\n",
              "    </tr>\n",
              "  </thead>\n",
              "  <tbody>\n",
              "    <tr>\n",
              "      <th>7</th>\n",
              "      <td>2.351869e-08</td>\n",
              "      <td>1</td>\n",
              "      <td>1061769519</td>\n",
              "      <td>WebAnalytics</td>\n",
              "      <td>https://t.me/webanalyst</td>\n",
              "      <td>Меня зовут Дмитрий Осиюк (@iosiuk) я аналитик ...</td>\n",
              "    </tr>\n",
              "    <tr>\n",
              "      <th>11</th>\n",
              "      <td>2.255747e-08</td>\n",
              "      <td>2</td>\n",
              "      <td>1392357804</td>\n",
              "      <td>BigQuery Insights</td>\n",
              "      <td>https://t.me/BigQuery</td>\n",
              "      <td>Аналитика в Google BigQuery инсайты примеры SQ...</td>\n",
              "    </tr>\n",
              "    <tr>\n",
              "      <th>16</th>\n",
              "      <td>3.103759e-08</td>\n",
              "      <td>3</td>\n",
              "      <td>1004393721</td>\n",
              "      <td>Интернет-аналитика</td>\n",
              "      <td>https://t.me/internetanalytics</td>\n",
              "      <td>18-19 ноября оффлайн-конференция аналитике Мат...</td>\n",
              "    </tr>\n",
              "    <tr>\n",
              "      <th>4</th>\n",
              "      <td>2.857008e-08</td>\n",
              "      <td>4</td>\n",
              "      <td>1490689117</td>\n",
              "      <td>Reveal the Data</td>\n",
              "      <td>https://t.me/revealthedata</td>\n",
              "      <td>Канал Ромы Бунина про визуализацию данных разв...</td>\n",
              "    </tr>\n",
              "    <tr>\n",
              "      <th>52</th>\n",
              "      <td>1.569243e-08</td>\n",
              "      <td>5</td>\n",
              "      <td>1077332159</td>\n",
              "      <td>Школа бородатого веб-аналитика</td>\n",
              "      <td>https://t.me/schoolWA</td>\n",
              "      <td>Тут вы узнаете о новинках кейсах и решениях в ...</td>\n",
              "    </tr>\n",
              "    <tr>\n",
              "      <th>19</th>\n",
              "      <td>3.404425e-08</td>\n",
              "      <td>6</td>\n",
              "      <td>1109735806</td>\n",
              "      <td>Чартомойка</td>\n",
              "      <td>https://t.me/chartomojka</td>\n",
              "      <td>О графиках: плохих хороших и других. От восхищ...</td>\n",
              "    </tr>\n",
              "    <tr>\n",
              "      <th>134</th>\n",
              "      <td>1.968903e-08</td>\n",
              "      <td>7</td>\n",
              "      <td>1365701162</td>\n",
              "      <td>Maps&amp;Data</td>\n",
              "      <td>https://t.me/mapsanddata</td>\n",
              "      <td>🗺 Карты. Инфографика. Статистика. ▪️Чат канала...</td>\n",
              "    </tr>\n",
              "    <tr>\n",
              "      <th>0</th>\n",
              "      <td>2.112924e-08</td>\n",
              "      <td>8</td>\n",
              "      <td>1407735984</td>\n",
              "      <td>LEFT JOIN</td>\n",
              "      <td>https://t.me/leftjoin</td>\n",
              "      <td>Make data work. Канал об аналитике блога leftj...</td>\n",
              "    </tr>\n",
              "    <tr>\n",
              "      <th>2</th>\n",
              "      <td>2.539491e-08</td>\n",
              "      <td>9</td>\n",
              "      <td>1329188755</td>\n",
              "      <td>Инжиниринг Данных</td>\n",
              "      <td>https://t.me/rockyourdata</td>\n",
              "      <td>Канал для всех кто интересуется или работает с...</td>\n",
              "    </tr>\n",
              "    <tr>\n",
              "      <th>1</th>\n",
              "      <td>1.530779e-08</td>\n",
              "      <td>10</td>\n",
              "      <td>1387835436</td>\n",
              "      <td>настенька и графики</td>\n",
              "      <td>https://t.me/nastengraph</td>\n",
              "      <td>Тут датавиз аналитика и всякое полезное и инте...</td>\n",
              "    </tr>\n",
              "  </tbody>\n",
              "</table>\n",
              "</div>"
            ],
            "text/plain": [
              "             x(t)  ...                                        description\n",
              "7    2.351869e-08  ...  Меня зовут Дмитрий Осиюк (@iosiuk) я аналитик ...\n",
              "11   2.255747e-08  ...  Аналитика в Google BigQuery инсайты примеры SQ...\n",
              "16   3.103759e-08  ...  18-19 ноября оффлайн-конференция аналитике Мат...\n",
              "4    2.857008e-08  ...  Канал Ромы Бунина про визуализацию данных разв...\n",
              "52   1.569243e-08  ...  Тут вы узнаете о новинках кейсах и решениях в ...\n",
              "19   3.404425e-08  ...  О графиках: плохих хороших и других. От восхищ...\n",
              "134  1.968903e-08  ...  🗺 Карты. Инфографика. Статистика. ▪️Чат канала...\n",
              "0    2.112924e-08  ...  Make data work. Канал об аналитике блога leftj...\n",
              "2    2.539491e-08  ...  Канал для всех кто интересуется или работает с...\n",
              "1    1.530779e-08  ...  Тут датавиз аналитика и всякое полезное и инте...\n",
              "\n",
              "[10 rows x 6 columns]"
            ]
          },
          "metadata": {},
          "execution_count": 87
        }
      ]
    },
    {
      "cell_type": "markdown",
      "metadata": {
        "id": "zTZ_a8jWT-1u"
      },
      "source": [
        "Сравним ТОП10 каналов с наибольшей вероятностью попадания в них и место (ранг) этих каналов в списке каналов, на которые больше всего ссылаются."
      ]
    },
    {
      "cell_type": "code",
      "metadata": {
        "colab": {
          "base_uri": "https://localhost:8080/",
          "height": 359
        },
        "id": "FPwu4q-4Oj_l",
        "outputId": "4118bfea-20d2-41ea-d45d-a362cb4d95ab"
      },
      "source": [
        "top10_with_ranks_2 = filtered_top10_2[['id', 'Rank', 'name']].copy()\n",
        "\n",
        "top10_compare_2 = top10_with_ranks_2.merge(filtered_targets_top_with_ranks, how='inner', on='id',\n",
        "                                       suffixes=['_from_top', '_from_targets_top'])\n",
        "top10_compare_2"
      ],
      "execution_count": null,
      "outputs": [
        {
          "output_type": "execute_result",
          "data": {
            "text/html": [
              "<div>\n",
              "<style scoped>\n",
              "    .dataframe tbody tr th:only-of-type {\n",
              "        vertical-align: middle;\n",
              "    }\n",
              "\n",
              "    .dataframe tbody tr th {\n",
              "        vertical-align: top;\n",
              "    }\n",
              "\n",
              "    .dataframe thead th {\n",
              "        text-align: right;\n",
              "    }\n",
              "</style>\n",
              "<table border=\"1\" class=\"dataframe\">\n",
              "  <thead>\n",
              "    <tr style=\"text-align: right;\">\n",
              "      <th></th>\n",
              "      <th>id</th>\n",
              "      <th>Rank_from_top</th>\n",
              "      <th>name</th>\n",
              "      <th>Rank_from_targets_top</th>\n",
              "    </tr>\n",
              "  </thead>\n",
              "  <tbody>\n",
              "    <tr>\n",
              "      <th>0</th>\n",
              "      <td>1061769519</td>\n",
              "      <td>1</td>\n",
              "      <td>WebAnalytics</td>\n",
              "      <td>10</td>\n",
              "    </tr>\n",
              "    <tr>\n",
              "      <th>1</th>\n",
              "      <td>1392357804</td>\n",
              "      <td>2</td>\n",
              "      <td>BigQuery Insights</td>\n",
              "      <td>12</td>\n",
              "    </tr>\n",
              "    <tr>\n",
              "      <th>2</th>\n",
              "      <td>1004393721</td>\n",
              "      <td>3</td>\n",
              "      <td>Интернет-аналитика</td>\n",
              "      <td>3</td>\n",
              "    </tr>\n",
              "    <tr>\n",
              "      <th>3</th>\n",
              "      <td>1490689117</td>\n",
              "      <td>4</td>\n",
              "      <td>Reveal the Data</td>\n",
              "      <td>2</td>\n",
              "    </tr>\n",
              "    <tr>\n",
              "      <th>4</th>\n",
              "      <td>1077332159</td>\n",
              "      <td>5</td>\n",
              "      <td>Школа бородатого веб-аналитика</td>\n",
              "      <td>20</td>\n",
              "    </tr>\n",
              "    <tr>\n",
              "      <th>5</th>\n",
              "      <td>1109735806</td>\n",
              "      <td>6</td>\n",
              "      <td>Чартомойка</td>\n",
              "      <td>4</td>\n",
              "    </tr>\n",
              "    <tr>\n",
              "      <th>6</th>\n",
              "      <td>1365701162</td>\n",
              "      <td>7</td>\n",
              "      <td>Maps&amp;Data</td>\n",
              "      <td>26</td>\n",
              "    </tr>\n",
              "    <tr>\n",
              "      <th>7</th>\n",
              "      <td>1407735984</td>\n",
              "      <td>8</td>\n",
              "      <td>LEFT JOIN</td>\n",
              "      <td>5</td>\n",
              "    </tr>\n",
              "    <tr>\n",
              "      <th>8</th>\n",
              "      <td>1329188755</td>\n",
              "      <td>9</td>\n",
              "      <td>Инжиниринг Данных</td>\n",
              "      <td>1</td>\n",
              "    </tr>\n",
              "    <tr>\n",
              "      <th>9</th>\n",
              "      <td>1387835436</td>\n",
              "      <td>10</td>\n",
              "      <td>настенька и графики</td>\n",
              "      <td>9</td>\n",
              "    </tr>\n",
              "  </tbody>\n",
              "</table>\n",
              "</div>"
            ],
            "text/plain": [
              "           id  ...  Rank_from_targets_top\n",
              "0  1061769519  ...                     10\n",
              "1  1392357804  ...                     12\n",
              "2  1004393721  ...                      3\n",
              "3  1490689117  ...                      2\n",
              "4  1077332159  ...                     20\n",
              "5  1109735806  ...                      4\n",
              "6  1365701162  ...                     26\n",
              "7  1407735984  ...                      5\n",
              "8  1329188755  ...                      1\n",
              "9  1387835436  ...                      9\n",
              "\n",
              "[10 rows x 4 columns]"
            ]
          },
          "metadata": {},
          "execution_count": 92
        }
      ]
    },
    {
      "cell_type": "markdown",
      "metadata": {
        "id": "82G4ZjYgd2_W"
      },
      "source": [
        "Результаты и выводы:\n",
        "* в ходе решения задачи были получены ТОП10 каналов с наибольшей вероятностью перехода по двум вариантам расчета значения вероятности (равновероятный вариант по количеству исходящих связей и вариант с учетом количества упоминаний). Результаты также сравнивались с местом (рангом) этих каналов в списке каналов, на которые больше всего ссылаются. Итог - два канала Интернет-аналитика и Reveal the Data, которые имеют высокий ранг (не ниже 4 места) во всех выборках. С учетом этого можно считать эти каналы ответом на поставленную задачу.  \n",
        " \n",
        "* при любой процедуре анализа важно обращать внимание на аномальные значения, разбираться в их влиянии на результат и, возможно, исключать их с целью получения более точной картины\n",
        "\n",
        "* полученные результаты важно проверять при помощи здравого смысла. В нашем случае многие каналы из ТОП10 с наибольшей вероятностью перехода совпадают с каналами, на которые больше всего ссылаются.\n",
        "\n",
        "Удачи в аналитике!"
      ]
    }
  ]
}